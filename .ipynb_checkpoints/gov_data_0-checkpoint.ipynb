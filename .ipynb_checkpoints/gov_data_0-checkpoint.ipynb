{
 "cells": [
  {
   "cell_type": "markdown",
   "id": "3023174d",
   "metadata": {},
   "source": [
    "# Data exploration on GOV data - population in settlements segmented by age group"
   ]
  },
  {
   "cell_type": "code",
   "execution_count": 86,
   "id": "4fff2d14",
   "metadata": {},
   "outputs": [],
   "source": [
    "#imports\n",
    "import pandas as pd\n",
    "import matplotlib.pyplot as plt\n",
    "\n",
    "#loads\n",
    "df = pd.read_csv('csv_data.csv', encoding='iso8859-8')\n"
   ]
  },
  {
   "cell_type": "markdown",
   "id": "fff4e83c",
   "metadata": {},
   "source": [
    "## Get some general info"
   ]
  },
  {
   "cell_type": "code",
   "execution_count": 87,
   "id": "5ef4726b",
   "metadata": {},
   "outputs": [
    {
     "data": {
      "text/html": [
       "<div>\n",
       "<style scoped>\n",
       "    .dataframe tbody tr th:only-of-type {\n",
       "        vertical-align: middle;\n",
       "    }\n",
       "\n",
       "    .dataframe tbody tr th {\n",
       "        vertical-align: top;\n",
       "    }\n",
       "\n",
       "    .dataframe thead th {\n",
       "        text-align: right;\n",
       "    }\n",
       "</style>\n",
       "<table border=\"1\" class=\"dataframe\">\n",
       "  <thead>\n",
       "    <tr style=\"text-align: right;\">\n",
       "      <th></th>\n",
       "      <th>סמל_ישוב</th>\n",
       "      <th>שם_ישוב</th>\n",
       "      <th>סמל_נפה</th>\n",
       "      <th>נפה</th>\n",
       "      <th>קוד_לשכת_מנא</th>\n",
       "      <th>לשכת_מנא</th>\n",
       "      <th>קוד_מועצה_אזורית</th>\n",
       "      <th>מועצה_אזורית</th>\n",
       "      <th>סהכ</th>\n",
       "      <th>גיל_0_5</th>\n",
       "      <th>גיל_6_18</th>\n",
       "      <th>גיל_19_45</th>\n",
       "      <th>גיל_46_55</th>\n",
       "      <th>גיל_56_64</th>\n",
       "      <th>גיל_65_פלוס</th>\n",
       "    </tr>\n",
       "  </thead>\n",
       "  <tbody>\n",
       "    <tr>\n",
       "      <th>0</th>\n",
       "      <td>0</td>\n",
       "      <td>לא רשום</td>\n",
       "      <td>0</td>\n",
       "      <td>לא ידוע</td>\n",
       "      <td>0</td>\n",
       "      <td></td>\n",
       "      <td>0</td>\n",
       "      <td></td>\n",
       "      <td>27831</td>\n",
       "      <td>4780</td>\n",
       "      <td>2427</td>\n",
       "      <td>1207</td>\n",
       "      <td>619</td>\n",
       "      <td>655</td>\n",
       "      <td>18143</td>\n",
       "    </tr>\n",
       "    <tr>\n",
       "      <th>1</th>\n",
       "      <td>7</td>\n",
       "      <td>שחר</td>\n",
       "      <td>61</td>\n",
       "      <td>אשקלון</td>\n",
       "      <td>61</td>\n",
       "      <td>אשקלון</td>\n",
       "      <td>50</td>\n",
       "      <td>לכיש</td>\n",
       "      <td>783</td>\n",
       "      <td>58</td>\n",
       "      <td>197</td>\n",
       "      <td>267</td>\n",
       "      <td>95</td>\n",
       "      <td>73</td>\n",
       "      <td>93</td>\n",
       "    </tr>\n",
       "    <tr>\n",
       "      <th>2</th>\n",
       "      <td>10</td>\n",
       "      <td>תירוש</td>\n",
       "      <td>11</td>\n",
       "      <td>ירושלים</td>\n",
       "      <td>13</td>\n",
       "      <td>בית שמש</td>\n",
       "      <td>26</td>\n",
       "      <td>מטה יהודה</td>\n",
       "      <td>443</td>\n",
       "      <td>33</td>\n",
       "      <td>76</td>\n",
       "      <td>160</td>\n",
       "      <td>52</td>\n",
       "      <td>57</td>\n",
       "      <td>65</td>\n",
       "    </tr>\n",
       "    <tr>\n",
       "      <th>3</th>\n",
       "      <td>11</td>\n",
       "      <td>ניר ח\"ן</td>\n",
       "      <td>61</td>\n",
       "      <td>אשקלון</td>\n",
       "      <td>61</td>\n",
       "      <td>אשקלון</td>\n",
       "      <td>50</td>\n",
       "      <td>לכיש</td>\n",
       "      <td>626</td>\n",
       "      <td>42</td>\n",
       "      <td>135</td>\n",
       "      <td>198</td>\n",
       "      <td>82</td>\n",
       "      <td>63</td>\n",
       "      <td>106</td>\n",
       "    </tr>\n",
       "    <tr>\n",
       "      <th>4</th>\n",
       "      <td>13</td>\n",
       "      <td>חצבה</td>\n",
       "      <td>62</td>\n",
       "      <td>באר שבע</td>\n",
       "      <td>63</td>\n",
       "      <td>אילת</td>\n",
       "      <td>54</td>\n",
       "      <td>הערבה התיכונה</td>\n",
       "      <td>723</td>\n",
       "      <td>39</td>\n",
       "      <td>201</td>\n",
       "      <td>196</td>\n",
       "      <td>100</td>\n",
       "      <td>38</td>\n",
       "      <td>149</td>\n",
       "    </tr>\n",
       "  </tbody>\n",
       "</table>\n",
       "</div>"
      ],
      "text/plain": [
       "   סמל_ישוב   שם_ישוב סמל_נפה       נפה קוד_לשכת_מנא  לשכת_מנא  \\\n",
       "0         0  לא רשום       0   לא ידוע            0              \n",
       "1         7      שחר      61    אשקלון           61    אשקלון    \n",
       "2        10    תירוש      11   ירושלים           13   בית שמש    \n",
       "3        11  ניר ח\"ן      61    אשקלון           61    אשקלון    \n",
       "4        13     חצבה      62   באר שבע           63      אילת    \n",
       "\n",
       "  קוד_מועצה_אזורית    מועצה_אזורית    סהכ  גיל_0_5  גיל_6_18  גיל_19_45  \\\n",
       "0               0                   27831     4780      2427       1207   \n",
       "1              50            לכיש     783       58       197        267   \n",
       "2              26       מטה יהודה     443       33        76        160   \n",
       "3              50            לכיש     626       42       135        198   \n",
       "4              54   הערבה התיכונה     723       39       201        196   \n",
       "\n",
       "   גיל_46_55  גיל_56_64  גיל_65_פלוס  \n",
       "0        619        655        18143  \n",
       "1         95         73           93  \n",
       "2         52         57           65  \n",
       "3         82         63          106  \n",
       "4        100         38          149  "
      ]
     },
     "execution_count": 87,
     "metadata": {},
     "output_type": "execute_result"
    }
   ],
   "source": [
    "df.head()"
   ]
  },
  {
   "cell_type": "markdown",
   "id": "247e4150",
   "metadata": {},
   "source": [
    "We can see table we names of settelments, regional council if there is, total population and population in segments by ages."
   ]
  },
  {
   "cell_type": "code",
   "execution_count": 88,
   "id": "27bbb60c",
   "metadata": {},
   "outputs": [
    {
     "name": "stdout",
     "output_type": "stream",
     "text": [
      "<class 'pandas.core.frame.DataFrame'>\n",
      "RangeIndex: 1262 entries, 0 to 1261\n",
      "Data columns (total 15 columns):\n",
      " #   Column            Non-Null Count  Dtype \n",
      "---  ------            --------------  ----- \n",
      " 0   סמל_ישוב          1262 non-null   int64 \n",
      " 1   שם_ישוב           1262 non-null   object\n",
      " 2   סמל_נפה           1262 non-null   object\n",
      " 3   נפה               1262 non-null   object\n",
      " 4   קוד_לשכת_מנא      1262 non-null   object\n",
      " 5   לשכת_מנא          1262 non-null   object\n",
      " 6   קוד_מועצה_אזורית  1262 non-null   object\n",
      " 7   מועצה_אזורית      1262 non-null   object\n",
      " 8   סהכ               1262 non-null   int64 \n",
      " 9   גיל_0_5           1262 non-null   int64 \n",
      " 10  גיל_6_18          1262 non-null   int64 \n",
      " 11  גיל_19_45         1262 non-null   int64 \n",
      " 12  גיל_46_55         1262 non-null   int64 \n",
      " 13  גיל_56_64         1262 non-null   int64 \n",
      " 14  גיל_65_פלוס       1262 non-null   int64 \n",
      "dtypes: int64(8), object(7)\n",
      "memory usage: 148.0+ KB\n"
     ]
    }
   ],
   "source": [
    "df.info()"
   ]
  },
  {
   "cell_type": "markdown",
   "id": "f1b7f25e",
   "metadata": {},
   "source": [
    "No NaN fields"
   ]
  },
  {
   "cell_type": "code",
   "execution_count": 89,
   "id": "70842036",
   "metadata": {},
   "outputs": [
    {
     "data": {
      "text/html": [
       "<div>\n",
       "<style scoped>\n",
       "    .dataframe tbody tr th:only-of-type {\n",
       "        vertical-align: middle;\n",
       "    }\n",
       "\n",
       "    .dataframe tbody tr th {\n",
       "        vertical-align: top;\n",
       "    }\n",
       "\n",
       "    .dataframe thead th {\n",
       "        text-align: right;\n",
       "    }\n",
       "</style>\n",
       "<table border=\"1\" class=\"dataframe\">\n",
       "  <thead>\n",
       "    <tr style=\"text-align: right;\">\n",
       "      <th></th>\n",
       "      <th>סמל_ישוב</th>\n",
       "      <th>סהכ</th>\n",
       "      <th>גיל_0_5</th>\n",
       "      <th>גיל_6_18</th>\n",
       "      <th>גיל_19_45</th>\n",
       "      <th>גיל_46_55</th>\n",
       "      <th>גיל_56_64</th>\n",
       "      <th>גיל_65_פלוס</th>\n",
       "    </tr>\n",
       "  </thead>\n",
       "  <tbody>\n",
       "    <tr>\n",
       "      <th>count</th>\n",
       "      <td>1262.000000</td>\n",
       "      <td>1.262000e+03</td>\n",
       "      <td>1262.000000</td>\n",
       "      <td>1262.000000</td>\n",
       "      <td>1262.000000</td>\n",
       "      <td>1262.000000</td>\n",
       "      <td>1262.000000</td>\n",
       "      <td>1262.000000</td>\n",
       "    </tr>\n",
       "    <tr>\n",
       "      <th>mean</th>\n",
       "      <td>1403.758320</td>\n",
       "      <td>8.074091e+03</td>\n",
       "      <td>733.439778</td>\n",
       "      <td>1755.810618</td>\n",
       "      <td>2858.823296</td>\n",
       "      <td>895.618859</td>\n",
       "      <td>646.342314</td>\n",
       "      <td>1184.056260</td>\n",
       "    </tr>\n",
       "    <tr>\n",
       "      <th>std</th>\n",
       "      <td>1623.748181</td>\n",
       "      <td>4.186064e+04</td>\n",
       "      <td>4140.147818</td>\n",
       "      <td>9233.613338</td>\n",
       "      <td>14976.628408</td>\n",
       "      <td>4378.515577</td>\n",
       "      <td>3329.562144</td>\n",
       "      <td>6829.658437</td>\n",
       "    </tr>\n",
       "    <tr>\n",
       "      <th>min</th>\n",
       "      <td>0.000000</td>\n",
       "      <td>3.000000e+00</td>\n",
       "      <td>0.000000</td>\n",
       "      <td>0.000000</td>\n",
       "      <td>0.000000</td>\n",
       "      <td>0.000000</td>\n",
       "      <td>0.000000</td>\n",
       "      <td>0.000000</td>\n",
       "    </tr>\n",
       "    <tr>\n",
       "      <th>25%</th>\n",
       "      <td>432.250000</td>\n",
       "      <td>5.580000e+02</td>\n",
       "      <td>45.000000</td>\n",
       "      <td>125.000000</td>\n",
       "      <td>193.000000</td>\n",
       "      <td>56.000000</td>\n",
       "      <td>41.000000</td>\n",
       "      <td>60.000000</td>\n",
       "    </tr>\n",
       "    <tr>\n",
       "      <th>50%</th>\n",
       "      <td>837.500000</td>\n",
       "      <td>9.020000e+02</td>\n",
       "      <td>74.000000</td>\n",
       "      <td>217.000000</td>\n",
       "      <td>295.500000</td>\n",
       "      <td>108.000000</td>\n",
       "      <td>66.000000</td>\n",
       "      <td>110.000000</td>\n",
       "    </tr>\n",
       "    <tr>\n",
       "      <th>75%</th>\n",
       "      <td>1332.750000</td>\n",
       "      <td>1.675000e+03</td>\n",
       "      <td>159.750000</td>\n",
       "      <td>453.000000</td>\n",
       "      <td>608.000000</td>\n",
       "      <td>205.750000</td>\n",
       "      <td>128.750000</td>\n",
       "      <td>194.250000</td>\n",
       "    </tr>\n",
       "    <tr>\n",
       "      <th>max</th>\n",
       "      <td>9800.000000</td>\n",
       "      <td>1.042259e+06</td>\n",
       "      <td>118840.000000</td>\n",
       "      <td>263231.000000</td>\n",
       "      <td>375666.000000</td>\n",
       "      <td>91177.000000</td>\n",
       "      <td>70618.000000</td>\n",
       "      <td>122727.000000</td>\n",
       "    </tr>\n",
       "  </tbody>\n",
       "</table>\n",
       "</div>"
      ],
      "text/plain": [
       "          סמל_ישוב           סהכ        גיל_0_5       גיל_6_18      גיל_19_45  \\\n",
       "count  1262.000000  1.262000e+03    1262.000000    1262.000000    1262.000000   \n",
       "mean   1403.758320  8.074091e+03     733.439778    1755.810618    2858.823296   \n",
       "std    1623.748181  4.186064e+04    4140.147818    9233.613338   14976.628408   \n",
       "min       0.000000  3.000000e+00       0.000000       0.000000       0.000000   \n",
       "25%     432.250000  5.580000e+02      45.000000     125.000000     193.000000   \n",
       "50%     837.500000  9.020000e+02      74.000000     217.000000     295.500000   \n",
       "75%    1332.750000  1.675000e+03     159.750000     453.000000     608.000000   \n",
       "max    9800.000000  1.042259e+06  118840.000000  263231.000000  375666.000000   \n",
       "\n",
       "          גיל_46_55     גיל_56_64    גיל_65_פלוס  \n",
       "count   1262.000000   1262.000000    1262.000000  \n",
       "mean     895.618859    646.342314    1184.056260  \n",
       "std     4378.515577   3329.562144    6829.658437  \n",
       "min        0.000000      0.000000       0.000000  \n",
       "25%       56.000000     41.000000      60.000000  \n",
       "50%      108.000000     66.000000     110.000000  \n",
       "75%      205.750000    128.750000     194.250000  \n",
       "max    91177.000000  70618.000000  122727.000000  "
      ]
     },
     "execution_count": 89,
     "metadata": {},
     "output_type": "execute_result"
    }
   ],
   "source": [
    "df.describe()"
   ]
  },
  {
   "cell_type": "markdown",
   "id": "3ffa9677",
   "metadata": {},
   "source": [
    "We can see the range 19-45 is the largest\n",
    "50% of settlement have more than 900 people\n",
    "Largest settlement is more than 1 M people. Interesting. Is Tel Aviv more than 1 M?"
   ]
  },
  {
   "cell_type": "code",
   "execution_count": 90,
   "id": "4d16aff3",
   "metadata": {
    "scrolled": false
   },
   "outputs": [
    {
     "data": {
      "text/html": [
       "<div>\n",
       "<style scoped>\n",
       "    .dataframe tbody tr th:only-of-type {\n",
       "        vertical-align: middle;\n",
       "    }\n",
       "\n",
       "    .dataframe tbody tr th {\n",
       "        vertical-align: top;\n",
       "    }\n",
       "\n",
       "    .dataframe thead th {\n",
       "        text-align: right;\n",
       "    }\n",
       "</style>\n",
       "<table border=\"1\" class=\"dataframe\">\n",
       "  <thead>\n",
       "    <tr style=\"text-align: right;\">\n",
       "      <th></th>\n",
       "      <th>שם_ישוב</th>\n",
       "      <th>סמל_נפה</th>\n",
       "      <th>נפה</th>\n",
       "      <th>קוד_לשכת_מנא</th>\n",
       "      <th>לשכת_מנא</th>\n",
       "      <th>קוד_מועצה_אזורית</th>\n",
       "      <th>מועצה_אזורית</th>\n",
       "    </tr>\n",
       "  </thead>\n",
       "  <tbody>\n",
       "    <tr>\n",
       "      <th>count</th>\n",
       "      <td>1262</td>\n",
       "      <td>1262</td>\n",
       "      <td>1262</td>\n",
       "      <td>1262</td>\n",
       "      <td>1262</td>\n",
       "      <td>1262</td>\n",
       "      <td>1262</td>\n",
       "    </tr>\n",
       "    <tr>\n",
       "      <th>unique</th>\n",
       "      <td>1262</td>\n",
       "      <td>27</td>\n",
       "      <td>27</td>\n",
       "      <td>28</td>\n",
       "      <td>27</td>\n",
       "      <td>56</td>\n",
       "      <td>55</td>\n",
       "    </tr>\n",
       "    <tr>\n",
       "      <th>top</th>\n",
       "      <td>לא רשום</td>\n",
       "      <td>62</td>\n",
       "      <td>באר שבע</td>\n",
       "      <td>62</td>\n",
       "      <td>באר שבע</td>\n",
       "      <td>0</td>\n",
       "      <td></td>\n",
       "    </tr>\n",
       "    <tr>\n",
       "      <th>freq</th>\n",
       "      <td>1</td>\n",
       "      <td>178</td>\n",
       "      <td>178</td>\n",
       "      <td>157</td>\n",
       "      <td>157</td>\n",
       "      <td>232</td>\n",
       "      <td>243</td>\n",
       "    </tr>\n",
       "  </tbody>\n",
       "</table>\n",
       "</div>"
      ],
      "text/plain": [
       "         שם_ישוב סמל_נפה       נפה קוד_לשכת_מנא  לשכת_מנא קוד_מועצה_אזורית  \\\n",
       "count       1262    1262      1262         1262      1262             1262   \n",
       "unique      1262      27        27           28        27               56   \n",
       "top     לא רשום      62   באר שבע           62   באר שבע                0    \n",
       "freq           1     178       178          157       157              232   \n",
       "\n",
       "       מועצה_אזורית  \n",
       "count          1262  \n",
       "unique           55  \n",
       "top                  \n",
       "freq            243  "
      ]
     },
     "execution_count": 90,
     "metadata": {},
     "output_type": "execute_result"
    }
   ],
   "source": [
    "df.describe(include=object)"
   ]
  },
  {
   "cell_type": "markdown",
   "id": "194adef1",
   "metadata": {},
   "source": [
    "Nothing interesting here"
   ]
  },
  {
   "cell_type": "code",
   "execution_count": 91,
   "id": "3011ea0d",
   "metadata": {
    "scrolled": true
   },
   "outputs": [
    {
     "data": {
      "text/html": [
       "<div>\n",
       "<style scoped>\n",
       "    .dataframe tbody tr th:only-of-type {\n",
       "        vertical-align: middle;\n",
       "    }\n",
       "\n",
       "    .dataframe tbody tr th {\n",
       "        vertical-align: top;\n",
       "    }\n",
       "\n",
       "    .dataframe thead th {\n",
       "        text-align: right;\n",
       "    }\n",
       "</style>\n",
       "<table border=\"1\" class=\"dataframe\">\n",
       "  <thead>\n",
       "    <tr style=\"text-align: right;\">\n",
       "      <th></th>\n",
       "      <th>סמל_ישוב</th>\n",
       "      <th>שם_ישוב</th>\n",
       "      <th>סמל_נפה</th>\n",
       "      <th>נפה</th>\n",
       "      <th>קוד_לשכת_מנא</th>\n",
       "      <th>לשכת_מנא</th>\n",
       "      <th>קוד_מועצה_אזורית</th>\n",
       "      <th>מועצה_אזורית</th>\n",
       "      <th>סהכ</th>\n",
       "      <th>גיל_0_5</th>\n",
       "      <th>גיל_6_18</th>\n",
       "      <th>גיל_19_45</th>\n",
       "      <th>גיל_46_55</th>\n",
       "      <th>גיל_56_64</th>\n",
       "      <th>גיל_65_פלוס</th>\n",
       "    </tr>\n",
       "  </thead>\n",
       "  <tbody>\n",
       "    <tr>\n",
       "      <th>1055</th>\n",
       "      <td>3000</td>\n",
       "      <td>ירושלים</td>\n",
       "      <td>11</td>\n",
       "      <td>ירושלים</td>\n",
       "      <td>11</td>\n",
       "      <td>ירושלים</td>\n",
       "      <td>0</td>\n",
       "      <td></td>\n",
       "      <td>1042259</td>\n",
       "      <td>118840</td>\n",
       "      <td>263231</td>\n",
       "      <td>375666</td>\n",
       "      <td>91177</td>\n",
       "      <td>70618</td>\n",
       "      <td>122727</td>\n",
       "    </tr>\n",
       "    <tr>\n",
       "      <th>1223</th>\n",
       "      <td>5000</td>\n",
       "      <td>תל אביב - יפו</td>\n",
       "      <td>51</td>\n",
       "      <td>תל אביב</td>\n",
       "      <td>51</td>\n",
       "      <td>ת\"א - מרכז</td>\n",
       "      <td>0</td>\n",
       "      <td></td>\n",
       "      <td>565977</td>\n",
       "      <td>34499</td>\n",
       "      <td>72308</td>\n",
       "      <td>224640</td>\n",
       "      <td>69317</td>\n",
       "      <td>49986</td>\n",
       "      <td>115227</td>\n",
       "    </tr>\n",
       "    <tr>\n",
       "      <th>1184</th>\n",
       "      <td>4000</td>\n",
       "      <td>חיפה</td>\n",
       "      <td>31</td>\n",
       "      <td>חיפה</td>\n",
       "      <td>31</td>\n",
       "      <td>חיפה</td>\n",
       "      <td>0</td>\n",
       "      <td></td>\n",
       "      <td>324291</td>\n",
       "      <td>19116</td>\n",
       "      <td>48781</td>\n",
       "      <td>105041</td>\n",
       "      <td>39340</td>\n",
       "      <td>32661</td>\n",
       "      <td>79352</td>\n",
       "    </tr>\n",
       "    <tr>\n",
       "      <th>1243</th>\n",
       "      <td>7900</td>\n",
       "      <td>פתח תקווה</td>\n",
       "      <td>42</td>\n",
       "      <td>פתח תקווה</td>\n",
       "      <td>42</td>\n",
       "      <td>פתח תקוה</td>\n",
       "      <td>0</td>\n",
       "      <td></td>\n",
       "      <td>275734</td>\n",
       "      <td>21266</td>\n",
       "      <td>55541</td>\n",
       "      <td>91022</td>\n",
       "      <td>35069</td>\n",
       "      <td>22655</td>\n",
       "      <td>50181</td>\n",
       "    </tr>\n",
       "    <tr>\n",
       "      <th>1246</th>\n",
       "      <td>8300</td>\n",
       "      <td>ראשון לציון</td>\n",
       "      <td>44</td>\n",
       "      <td>רחובות</td>\n",
       "      <td>46</td>\n",
       "      <td>ראשון לציון</td>\n",
       "      <td>0</td>\n",
       "      <td></td>\n",
       "      <td>274391</td>\n",
       "      <td>17871</td>\n",
       "      <td>44200</td>\n",
       "      <td>94509</td>\n",
       "      <td>35195</td>\n",
       "      <td>27306</td>\n",
       "      <td>55310</td>\n",
       "    </tr>\n",
       "    <tr>\n",
       "      <th>1238</th>\n",
       "      <td>7400</td>\n",
       "      <td>נתניה</td>\n",
       "      <td>41</td>\n",
       "      <td>השרון</td>\n",
       "      <td>41</td>\n",
       "      <td>נתניה</td>\n",
       "      <td>0</td>\n",
       "      <td></td>\n",
       "      <td>259079</td>\n",
       "      <td>18399</td>\n",
       "      <td>46077</td>\n",
       "      <td>83621</td>\n",
       "      <td>30000</td>\n",
       "      <td>24122</td>\n",
       "      <td>56860</td>\n",
       "    </tr>\n",
       "    <tr>\n",
       "      <th>44</th>\n",
       "      <td>70</td>\n",
       "      <td>אשדוד</td>\n",
       "      <td>61</td>\n",
       "      <td>אשקלון</td>\n",
       "      <td>69</td>\n",
       "      <td>אשדוד</td>\n",
       "      <td>0</td>\n",
       "      <td></td>\n",
       "      <td>255353</td>\n",
       "      <td>20810</td>\n",
       "      <td>51501</td>\n",
       "      <td>84380</td>\n",
       "      <td>29571</td>\n",
       "      <td>23706</td>\n",
       "      <td>45385</td>\n",
       "    </tr>\n",
       "    <tr>\n",
       "      <th>1253</th>\n",
       "      <td>9000</td>\n",
       "      <td>באר שבע</td>\n",
       "      <td>62</td>\n",
       "      <td>באר שבע</td>\n",
       "      <td>62</td>\n",
       "      <td>באר שבע</td>\n",
       "      <td>0</td>\n",
       "      <td></td>\n",
       "      <td>223450</td>\n",
       "      <td>16627</td>\n",
       "      <td>39272</td>\n",
       "      <td>78476</td>\n",
       "      <td>24961</td>\n",
       "      <td>21812</td>\n",
       "      <td>42302</td>\n",
       "    </tr>\n",
       "    <tr>\n",
       "      <th>1225</th>\n",
       "      <td>6100</td>\n",
       "      <td>בני ברק</td>\n",
       "      <td>52</td>\n",
       "      <td>רמת גן</td>\n",
       "      <td>54</td>\n",
       "      <td>בני ברק</td>\n",
       "      <td>0</td>\n",
       "      <td></td>\n",
       "      <td>218949</td>\n",
       "      <td>36009</td>\n",
       "      <td>66848</td>\n",
       "      <td>74104</td>\n",
       "      <td>13208</td>\n",
       "      <td>10109</td>\n",
       "      <td>18671</td>\n",
       "    </tr>\n",
       "    <tr>\n",
       "      <th>1230</th>\n",
       "      <td>6600</td>\n",
       "      <td>חולון</td>\n",
       "      <td>53</td>\n",
       "      <td>חולון</td>\n",
       "      <td>53</td>\n",
       "      <td>חולון</td>\n",
       "      <td>0</td>\n",
       "      <td></td>\n",
       "      <td>212914</td>\n",
       "      <td>13947</td>\n",
       "      <td>36798</td>\n",
       "      <td>67864</td>\n",
       "      <td>27045</td>\n",
       "      <td>20382</td>\n",
       "      <td>46878</td>\n",
       "    </tr>\n",
       "  </tbody>\n",
       "</table>\n",
       "</div>"
      ],
      "text/plain": [
       "      סמל_ישוב         שם_ישוב סמל_נפה         נפה קוד_לשכת_מנא      לשכת_מנא  \\\n",
       "1055      3000        ירושלים      11     ירושלים           11       ירושלים    \n",
       "1223      5000  תל אביב - יפו      51     תל אביב           51    ת\"א - מרכז    \n",
       "1184      4000           חיפה      31        חיפה           31          חיפה    \n",
       "1243      7900      פתח תקווה      42   פתח תקווה           42      פתח תקוה    \n",
       "1246      8300    ראשון לציון      44      רחובות           46   ראשון לציון    \n",
       "1238      7400          נתניה      41       השרון           41         נתניה    \n",
       "44          70          אשדוד      61      אשקלון           69         אשדוד    \n",
       "1253      9000        באר שבע      62     באר שבע           62       באר שבע    \n",
       "1225      6100        בני ברק      52      רמת גן           54       בני ברק    \n",
       "1230      6600          חולון      53       חולון           53         חולון    \n",
       "\n",
       "     קוד_מועצה_אזורית מועצה_אזורית      סהכ  גיל_0_5  גיל_6_18  גיל_19_45  \\\n",
       "1055               0                1042259   118840    263231     375666   \n",
       "1223               0                 565977    34499     72308     224640   \n",
       "1184               0                 324291    19116     48781     105041   \n",
       "1243               0                 275734    21266     55541      91022   \n",
       "1246               0                 274391    17871     44200      94509   \n",
       "1238               0                 259079    18399     46077      83621   \n",
       "44                 0                 255353    20810     51501      84380   \n",
       "1253               0                 223450    16627     39272      78476   \n",
       "1225               0                 218949    36009     66848      74104   \n",
       "1230               0                 212914    13947     36798      67864   \n",
       "\n",
       "      גיל_46_55  גיל_56_64  גיל_65_פלוס  \n",
       "1055      91177      70618       122727  \n",
       "1223      69317      49986       115227  \n",
       "1184      39340      32661        79352  \n",
       "1243      35069      22655        50181  \n",
       "1246      35195      27306        55310  \n",
       "1238      30000      24122        56860  \n",
       "44        29571      23706        45385  \n",
       "1253      24961      21812        42302  \n",
       "1225      13208      10109        18671  \n",
       "1230      27045      20382        46878  "
      ]
     },
     "execution_count": 91,
     "metadata": {},
     "output_type": "execute_result"
    }
   ],
   "source": [
    "df1 = df.sort_values(by=['סהכ'], ascending=False)\n",
    "df1.head(10)\n"
   ]
  },
  {
   "cell_type": "code",
   "execution_count": 92,
   "id": "b9ee73ec",
   "metadata": {},
   "outputs": [
    {
     "data": {
      "text/html": [
       "<div>\n",
       "<style scoped>\n",
       "    .dataframe tbody tr th:only-of-type {\n",
       "        vertical-align: middle;\n",
       "    }\n",
       "\n",
       "    .dataframe tbody tr th {\n",
       "        vertical-align: top;\n",
       "    }\n",
       "\n",
       "    .dataframe thead th {\n",
       "        text-align: right;\n",
       "    }\n",
       "</style>\n",
       "<table border=\"1\" class=\"dataframe\">\n",
       "  <thead>\n",
       "    <tr style=\"text-align: right;\">\n",
       "      <th></th>\n",
       "      <th>סמל_ישוב</th>\n",
       "      <th>שם_ישוב</th>\n",
       "      <th>סמל_נפה</th>\n",
       "      <th>נפה</th>\n",
       "      <th>קוד_לשכת_מנא</th>\n",
       "      <th>לשכת_מנא</th>\n",
       "      <th>קוד_מועצה_אזורית</th>\n",
       "      <th>מועצה_אזורית</th>\n",
       "      <th>סהכ</th>\n",
       "      <th>גיל_0_5</th>\n",
       "      <th>גיל_6_18</th>\n",
       "      <th>גיל_19_45</th>\n",
       "      <th>גיל_46_55</th>\n",
       "      <th>גיל_56_64</th>\n",
       "      <th>גיל_65_פלוס</th>\n",
       "    </tr>\n",
       "  </thead>\n",
       "  <tbody>\n",
       "    <tr>\n",
       "      <th>0</th>\n",
       "      <td>0</td>\n",
       "      <td>לא רשום</td>\n",
       "      <td>0</td>\n",
       "      <td>לא ידוע</td>\n",
       "      <td>0</td>\n",
       "      <td></td>\n",
       "      <td>0</td>\n",
       "      <td></td>\n",
       "      <td>27831</td>\n",
       "      <td>4780</td>\n",
       "      <td>2427</td>\n",
       "      <td>1207</td>\n",
       "      <td>619</td>\n",
       "      <td>655</td>\n",
       "      <td>18143</td>\n",
       "    </tr>\n",
       "    <tr>\n",
       "      <th>1</th>\n",
       "      <td>7</td>\n",
       "      <td>שחר</td>\n",
       "      <td>61</td>\n",
       "      <td>אשקלון</td>\n",
       "      <td>61</td>\n",
       "      <td>אשקלון</td>\n",
       "      <td>50</td>\n",
       "      <td>לכיש</td>\n",
       "      <td>783</td>\n",
       "      <td>58</td>\n",
       "      <td>197</td>\n",
       "      <td>267</td>\n",
       "      <td>95</td>\n",
       "      <td>73</td>\n",
       "      <td>93</td>\n",
       "    </tr>\n",
       "    <tr>\n",
       "      <th>2</th>\n",
       "      <td>10</td>\n",
       "      <td>תירוש</td>\n",
       "      <td>11</td>\n",
       "      <td>ירושלים</td>\n",
       "      <td>13</td>\n",
       "      <td>בית שמש</td>\n",
       "      <td>26</td>\n",
       "      <td>מטה יהודה</td>\n",
       "      <td>443</td>\n",
       "      <td>33</td>\n",
       "      <td>76</td>\n",
       "      <td>160</td>\n",
       "      <td>52</td>\n",
       "      <td>57</td>\n",
       "      <td>65</td>\n",
       "    </tr>\n",
       "    <tr>\n",
       "      <th>3</th>\n",
       "      <td>11</td>\n",
       "      <td>ניר ח\"ן</td>\n",
       "      <td>61</td>\n",
       "      <td>אשקלון</td>\n",
       "      <td>61</td>\n",
       "      <td>אשקלון</td>\n",
       "      <td>50</td>\n",
       "      <td>לכיש</td>\n",
       "      <td>626</td>\n",
       "      <td>42</td>\n",
       "      <td>135</td>\n",
       "      <td>198</td>\n",
       "      <td>82</td>\n",
       "      <td>63</td>\n",
       "      <td>106</td>\n",
       "    </tr>\n",
       "    <tr>\n",
       "      <th>4</th>\n",
       "      <td>13</td>\n",
       "      <td>חצבה</td>\n",
       "      <td>62</td>\n",
       "      <td>באר שבע</td>\n",
       "      <td>63</td>\n",
       "      <td>אילת</td>\n",
       "      <td>54</td>\n",
       "      <td>הערבה התיכונה</td>\n",
       "      <td>723</td>\n",
       "      <td>39</td>\n",
       "      <td>201</td>\n",
       "      <td>196</td>\n",
       "      <td>100</td>\n",
       "      <td>38</td>\n",
       "      <td>149</td>\n",
       "    </tr>\n",
       "  </tbody>\n",
       "</table>\n",
       "</div>"
      ],
      "text/plain": [
       "   סמל_ישוב   שם_ישוב סמל_נפה       נפה קוד_לשכת_מנא  לשכת_מנא  \\\n",
       "0         0  לא רשום       0   לא ידוע            0              \n",
       "1         7      שחר      61    אשקלון           61    אשקלון    \n",
       "2        10    תירוש      11   ירושלים           13   בית שמש    \n",
       "3        11  ניר ח\"ן      61    אשקלון           61    אשקלון    \n",
       "4        13     חצבה      62   באר שבע           63      אילת    \n",
       "\n",
       "  קוד_מועצה_אזורית    מועצה_אזורית    סהכ  גיל_0_5  גיל_6_18  גיל_19_45  \\\n",
       "0               0                   27831     4780      2427       1207   \n",
       "1              50            לכיש     783       58       197        267   \n",
       "2              26       מטה יהודה     443       33        76        160   \n",
       "3              50            לכיש     626       42       135        198   \n",
       "4              54   הערבה התיכונה     723       39       201        196   \n",
       "\n",
       "   גיל_46_55  גיל_56_64  גיל_65_פלוס  \n",
       "0        619        655        18143  \n",
       "1         95         73           93  \n",
       "2         52         57           65  \n",
       "3         82         63          106  \n",
       "4        100         38          149  "
      ]
     },
     "execution_count": 92,
     "metadata": {},
     "output_type": "execute_result"
    }
   ],
   "source": [
    "df.head()"
   ]
  },
  {
   "cell_type": "markdown",
   "id": "76497ace",
   "metadata": {},
   "source": [
    "So the biggest settlement is actually Jerusalem. I should have remember it. When combine with Eastern part it's huge."
   ]
  },
  {
   "cell_type": "markdown",
   "id": "464782e2",
   "metadata": {},
   "source": [
    "### Now lets look on specific settlements"
   ]
  },
  {
   "cell_type": "markdown",
   "id": "d92b0109",
   "metadata": {},
   "source": [
    "The problem is that there is a space before the settlement name"
   ]
  },
  {
   "cell_type": "code",
   "execution_count": 93,
   "id": "9f701abb",
   "metadata": {
    "scrolled": true
   },
   "outputs": [
    {
     "data": {
      "text/html": [
       "<div>\n",
       "<style scoped>\n",
       "    .dataframe tbody tr th:only-of-type {\n",
       "        vertical-align: middle;\n",
       "    }\n",
       "\n",
       "    .dataframe tbody tr th {\n",
       "        vertical-align: top;\n",
       "    }\n",
       "\n",
       "    .dataframe thead th {\n",
       "        text-align: right;\n",
       "    }\n",
       "</style>\n",
       "<table border=\"1\" class=\"dataframe\">\n",
       "  <thead>\n",
       "    <tr style=\"text-align: right;\">\n",
       "      <th></th>\n",
       "      <th>סמל_ישוב</th>\n",
       "      <th>שם_ישוב</th>\n",
       "      <th>סמל_נפה</th>\n",
       "      <th>נפה</th>\n",
       "      <th>קוד_לשכת_מנא</th>\n",
       "      <th>לשכת_מנא</th>\n",
       "      <th>קוד_מועצה_אזורית</th>\n",
       "      <th>מועצה_אזורית</th>\n",
       "      <th>סהכ</th>\n",
       "      <th>גיל_0_5</th>\n",
       "      <th>גיל_6_18</th>\n",
       "      <th>גיל_19_45</th>\n",
       "      <th>גיל_46_55</th>\n",
       "      <th>גיל_56_64</th>\n",
       "      <th>גיל_65_פלוס</th>\n",
       "    </tr>\n",
       "  </thead>\n",
       "  <tbody>\n",
       "    <tr>\n",
       "      <th>1055</th>\n",
       "      <td>3000</td>\n",
       "      <td>ירושלים</td>\n",
       "      <td>11</td>\n",
       "      <td>ירושלים</td>\n",
       "      <td>11</td>\n",
       "      <td>ירושלים</td>\n",
       "      <td>0</td>\n",
       "      <td></td>\n",
       "      <td>1042259</td>\n",
       "      <td>118840</td>\n",
       "      <td>263231</td>\n",
       "      <td>375666</td>\n",
       "      <td>91177</td>\n",
       "      <td>70618</td>\n",
       "      <td>122727</td>\n",
       "    </tr>\n",
       "  </tbody>\n",
       "</table>\n",
       "</div>"
      ],
      "text/plain": [
       "      סמל_ישוב   שם_ישוב סמל_נפה       נפה קוד_לשכת_מנא  לשכת_מנא  \\\n",
       "1055      3000  ירושלים      11   ירושלים           11   ירושלים    \n",
       "\n",
       "     קוד_מועצה_אזורית מועצה_אזורית      סהכ  גיל_0_5  גיל_6_18  גיל_19_45  \\\n",
       "1055               0                1042259   118840    263231     375666   \n",
       "\n",
       "      גיל_46_55  גיל_56_64  גיל_65_פלוס  \n",
       "1055      91177      70618       122727  "
      ]
     },
     "execution_count": 93,
     "metadata": {},
     "output_type": "execute_result"
    }
   ],
   "source": [
    "df.loc[df['שם_ישוב'] == 'ירושלים ']"
   ]
  },
  {
   "cell_type": "markdown",
   "id": "f66ac420",
   "metadata": {},
   "source": [
    "We will apply a to remove this space"
   ]
  },
  {
   "cell_type": "code",
   "execution_count": 94,
   "id": "e557e324",
   "metadata": {},
   "outputs": [],
   "source": [
    "def remove_space_before_and_after(column) -> str:\n",
    "    return column.strip()"
   ]
  },
  {
   "cell_type": "code",
   "execution_count": 95,
   "id": "c368a045",
   "metadata": {},
   "outputs": [
    {
     "data": {
      "text/html": [
       "<div>\n",
       "<style scoped>\n",
       "    .dataframe tbody tr th:only-of-type {\n",
       "        vertical-align: middle;\n",
       "    }\n",
       "\n",
       "    .dataframe tbody tr th {\n",
       "        vertical-align: top;\n",
       "    }\n",
       "\n",
       "    .dataframe thead th {\n",
       "        text-align: right;\n",
       "    }\n",
       "</style>\n",
       "<table border=\"1\" class=\"dataframe\">\n",
       "  <thead>\n",
       "    <tr style=\"text-align: right;\">\n",
       "      <th></th>\n",
       "      <th>סמל_ישוב</th>\n",
       "      <th>שם_ישוב</th>\n",
       "      <th>סמל_נפה</th>\n",
       "      <th>נפה</th>\n",
       "      <th>קוד_לשכת_מנא</th>\n",
       "      <th>לשכת_מנא</th>\n",
       "      <th>קוד_מועצה_אזורית</th>\n",
       "      <th>מועצה_אזורית</th>\n",
       "      <th>סהכ</th>\n",
       "      <th>גיל_0_5</th>\n",
       "      <th>גיל_6_18</th>\n",
       "      <th>גיל_19_45</th>\n",
       "      <th>גיל_46_55</th>\n",
       "      <th>גיל_56_64</th>\n",
       "      <th>גיל_65_פלוס</th>\n",
       "    </tr>\n",
       "  </thead>\n",
       "  <tbody>\n",
       "    <tr>\n",
       "      <th>0</th>\n",
       "      <td>0</td>\n",
       "      <td>לא רשום</td>\n",
       "      <td>0</td>\n",
       "      <td>לא ידוע</td>\n",
       "      <td>0</td>\n",
       "      <td></td>\n",
       "      <td>0</td>\n",
       "      <td></td>\n",
       "      <td>27831</td>\n",
       "      <td>4780</td>\n",
       "      <td>2427</td>\n",
       "      <td>1207</td>\n",
       "      <td>619</td>\n",
       "      <td>655</td>\n",
       "      <td>18143</td>\n",
       "    </tr>\n",
       "    <tr>\n",
       "      <th>1</th>\n",
       "      <td>7</td>\n",
       "      <td>שחר</td>\n",
       "      <td>61</td>\n",
       "      <td>אשקלון</td>\n",
       "      <td>61</td>\n",
       "      <td>אשקלון</td>\n",
       "      <td>50</td>\n",
       "      <td>לכיש</td>\n",
       "      <td>783</td>\n",
       "      <td>58</td>\n",
       "      <td>197</td>\n",
       "      <td>267</td>\n",
       "      <td>95</td>\n",
       "      <td>73</td>\n",
       "      <td>93</td>\n",
       "    </tr>\n",
       "    <tr>\n",
       "      <th>2</th>\n",
       "      <td>10</td>\n",
       "      <td>תירוש</td>\n",
       "      <td>11</td>\n",
       "      <td>ירושלים</td>\n",
       "      <td>13</td>\n",
       "      <td>בית שמש</td>\n",
       "      <td>26</td>\n",
       "      <td>מטה יהודה</td>\n",
       "      <td>443</td>\n",
       "      <td>33</td>\n",
       "      <td>76</td>\n",
       "      <td>160</td>\n",
       "      <td>52</td>\n",
       "      <td>57</td>\n",
       "      <td>65</td>\n",
       "    </tr>\n",
       "    <tr>\n",
       "      <th>3</th>\n",
       "      <td>11</td>\n",
       "      <td>ניר ח\"ן</td>\n",
       "      <td>61</td>\n",
       "      <td>אשקלון</td>\n",
       "      <td>61</td>\n",
       "      <td>אשקלון</td>\n",
       "      <td>50</td>\n",
       "      <td>לכיש</td>\n",
       "      <td>626</td>\n",
       "      <td>42</td>\n",
       "      <td>135</td>\n",
       "      <td>198</td>\n",
       "      <td>82</td>\n",
       "      <td>63</td>\n",
       "      <td>106</td>\n",
       "    </tr>\n",
       "    <tr>\n",
       "      <th>4</th>\n",
       "      <td>13</td>\n",
       "      <td>חצבה</td>\n",
       "      <td>62</td>\n",
       "      <td>באר שבע</td>\n",
       "      <td>63</td>\n",
       "      <td>אילת</td>\n",
       "      <td>54</td>\n",
       "      <td>הערבה התיכונה</td>\n",
       "      <td>723</td>\n",
       "      <td>39</td>\n",
       "      <td>201</td>\n",
       "      <td>196</td>\n",
       "      <td>100</td>\n",
       "      <td>38</td>\n",
       "      <td>149</td>\n",
       "    </tr>\n",
       "  </tbody>\n",
       "</table>\n",
       "</div>"
      ],
      "text/plain": [
       "   סמל_ישוב  שם_ישוב סמל_נפה       נפה קוד_לשכת_מנא  לשכת_מנא  \\\n",
       "0         0  לא רשום      0   לא ידוע            0              \n",
       "1         7      שחר     61    אשקלון           61    אשקלון    \n",
       "2        10    תירוש     11   ירושלים           13   בית שמש    \n",
       "3        11  ניר ח\"ן     61    אשקלון           61    אשקלון    \n",
       "4        13     חצבה     62   באר שבע           63      אילת    \n",
       "\n",
       "  קוד_מועצה_אזורית    מועצה_אזורית    סהכ  גיל_0_5  גיל_6_18  גיל_19_45  \\\n",
       "0               0                   27831     4780      2427       1207   \n",
       "1              50            לכיש     783       58       197        267   \n",
       "2              26       מטה יהודה     443       33        76        160   \n",
       "3              50            לכיש     626       42       135        198   \n",
       "4              54   הערבה התיכונה     723       39       201        196   \n",
       "\n",
       "   גיל_46_55  גיל_56_64  גיל_65_פלוס  \n",
       "0        619        655        18143  \n",
       "1         95         73           93  \n",
       "2         52         57           65  \n",
       "3         82         63          106  \n",
       "4        100         38          149  "
      ]
     },
     "execution_count": 95,
     "metadata": {},
     "output_type": "execute_result"
    }
   ],
   "source": [
    "df['שם_ישוב'] = df['שם_ישוב'].apply(remove_space_before_and_after)\n",
    "df.head()"
   ]
  },
  {
   "cell_type": "code",
   "execution_count": 96,
   "id": "551fe8d5",
   "metadata": {},
   "outputs": [
    {
     "data": {
      "text/html": [
       "<div>\n",
       "<style scoped>\n",
       "    .dataframe tbody tr th:only-of-type {\n",
       "        vertical-align: middle;\n",
       "    }\n",
       "\n",
       "    .dataframe tbody tr th {\n",
       "        vertical-align: top;\n",
       "    }\n",
       "\n",
       "    .dataframe thead th {\n",
       "        text-align: right;\n",
       "    }\n",
       "</style>\n",
       "<table border=\"1\" class=\"dataframe\">\n",
       "  <thead>\n",
       "    <tr style=\"text-align: right;\">\n",
       "      <th></th>\n",
       "      <th>סמל_ישוב</th>\n",
       "      <th>שם_ישוב</th>\n",
       "      <th>סמל_נפה</th>\n",
       "      <th>נפה</th>\n",
       "      <th>קוד_לשכת_מנא</th>\n",
       "      <th>לשכת_מנא</th>\n",
       "      <th>קוד_מועצה_אזורית</th>\n",
       "      <th>מועצה_אזורית</th>\n",
       "      <th>סהכ</th>\n",
       "      <th>גיל_0_5</th>\n",
       "      <th>גיל_6_18</th>\n",
       "      <th>גיל_19_45</th>\n",
       "      <th>גיל_46_55</th>\n",
       "      <th>גיל_56_64</th>\n",
       "      <th>גיל_65_פלוס</th>\n",
       "    </tr>\n",
       "  </thead>\n",
       "  <tbody>\n",
       "    <tr>\n",
       "      <th>1035</th>\n",
       "      <td>2100</td>\n",
       "      <td>טירת כרמל</td>\n",
       "      <td>31</td>\n",
       "      <td>חיפה</td>\n",
       "      <td>31</td>\n",
       "      <td>חיפה</td>\n",
       "      <td>0</td>\n",
       "      <td></td>\n",
       "      <td>29113</td>\n",
       "      <td>2817</td>\n",
       "      <td>4956</td>\n",
       "      <td>10610</td>\n",
       "      <td>3019</td>\n",
       "      <td>2751</td>\n",
       "      <td>4960</td>\n",
       "    </tr>\n",
       "    <tr>\n",
       "      <th>1250</th>\n",
       "      <td>8700</td>\n",
       "      <td>רעננה</td>\n",
       "      <td>42</td>\n",
       "      <td>פתח תקווה</td>\n",
       "      <td>47</td>\n",
       "      <td>כפר סבא</td>\n",
       "      <td>0</td>\n",
       "      <td></td>\n",
       "      <td>93977</td>\n",
       "      <td>5905</td>\n",
       "      <td>17477</td>\n",
       "      <td>29851</td>\n",
       "      <td>12511</td>\n",
       "      <td>8920</td>\n",
       "      <td>19313</td>\n",
       "    </tr>\n",
       "    <tr>\n",
       "      <th>1259</th>\n",
       "      <td>9600</td>\n",
       "      <td>קרית ים</td>\n",
       "      <td>31</td>\n",
       "      <td>חיפה</td>\n",
       "      <td>31</td>\n",
       "      <td>חיפה</td>\n",
       "      <td>0</td>\n",
       "      <td></td>\n",
       "      <td>45429</td>\n",
       "      <td>2113</td>\n",
       "      <td>6268</td>\n",
       "      <td>13969</td>\n",
       "      <td>5580</td>\n",
       "      <td>5099</td>\n",
       "      <td>12400</td>\n",
       "    </tr>\n",
       "  </tbody>\n",
       "</table>\n",
       "</div>"
      ],
      "text/plain": [
       "      סמל_ישוב    שם_ישוב סמל_נפה         נפה קוד_לשכת_מנא  לשכת_מנא  \\\n",
       "1035      2100  טירת כרמל     31        חיפה           31      חיפה    \n",
       "1250      8700      רעננה     42   פתח תקווה           47   כפר סבא    \n",
       "1259      9600    קרית ים     31        חיפה           31      חיפה    \n",
       "\n",
       "     קוד_מועצה_אזורית מועצה_אזורית    סהכ  גיל_0_5  גיל_6_18  גיל_19_45  \\\n",
       "1035               0                29113     2817      4956      10610   \n",
       "1250               0                93977     5905     17477      29851   \n",
       "1259               0                45429     2113      6268      13969   \n",
       "\n",
       "      גיל_46_55  גיל_56_64  גיל_65_פלוס  \n",
       "1035       3019       2751         4960  \n",
       "1250      12511       8920        19313  \n",
       "1259       5580       5099        12400  "
      ]
     },
     "execution_count": 96,
     "metadata": {},
     "output_type": "execute_result"
    }
   ],
   "source": [
    "some_values = ['קרית ים', 'טירת כרמל', 'רעננה']\n",
    "df.loc[df['שם_ישוב'].isin(some_values)]"
   ]
  },
  {
   "cell_type": "markdown",
   "id": "77bb9450",
   "metadata": {},
   "source": [
    "A chart that show the age distribution graphically can be helpful here. Let's do it."
   ]
  },
  {
   "cell_type": "code",
   "execution_count": 97,
   "id": "9013a50e",
   "metadata": {},
   "outputs": [],
   "source": [
    "df['0_5'] = df['גיל_0_5']/df['סהכ']*100\n",
    "df['6_18'] = df['גיל_6_18']/df['סהכ']*100\n",
    "df['19_45'] = df['גיל_19_45']/df['סהכ']*100\n",
    "df['46_55'] = df['גיל_46_55']/df['סהכ']*100\n",
    "df['56_64'] = df['גיל_56_64']/df['סהכ']*100\n",
    "df['65_'] = df['גיל_65_פלוס']/df['סהכ']*100"
   ]
  },
  {
   "cell_type": "code",
   "execution_count": 98,
   "id": "3b8fcf51",
   "metadata": {
    "scrolled": true
   },
   "outputs": [
    {
     "data": {
      "text/html": [
       "<div>\n",
       "<style scoped>\n",
       "    .dataframe tbody tr th:only-of-type {\n",
       "        vertical-align: middle;\n",
       "    }\n",
       "\n",
       "    .dataframe tbody tr th {\n",
       "        vertical-align: top;\n",
       "    }\n",
       "\n",
       "    .dataframe thead th {\n",
       "        text-align: right;\n",
       "    }\n",
       "</style>\n",
       "<table border=\"1\" class=\"dataframe\">\n",
       "  <thead>\n",
       "    <tr style=\"text-align: right;\">\n",
       "      <th></th>\n",
       "      <th>סמל_ישוב</th>\n",
       "      <th>שם_ישוב</th>\n",
       "      <th>סמל_נפה</th>\n",
       "      <th>נפה</th>\n",
       "      <th>קוד_לשכת_מנא</th>\n",
       "      <th>לשכת_מנא</th>\n",
       "      <th>קוד_מועצה_אזורית</th>\n",
       "      <th>מועצה_אזורית</th>\n",
       "      <th>סהכ</th>\n",
       "      <th>גיל_0_5</th>\n",
       "      <th>...</th>\n",
       "      <th>גיל_19_45</th>\n",
       "      <th>גיל_46_55</th>\n",
       "      <th>גיל_56_64</th>\n",
       "      <th>גיל_65_פלוס</th>\n",
       "      <th>0_5</th>\n",
       "      <th>6_18</th>\n",
       "      <th>19_45</th>\n",
       "      <th>46_55</th>\n",
       "      <th>56_64</th>\n",
       "      <th>65_</th>\n",
       "    </tr>\n",
       "  </thead>\n",
       "  <tbody>\n",
       "    <tr>\n",
       "      <th>0</th>\n",
       "      <td>0</td>\n",
       "      <td>לא רשום</td>\n",
       "      <td>0</td>\n",
       "      <td>לא ידוע</td>\n",
       "      <td>0</td>\n",
       "      <td></td>\n",
       "      <td>0</td>\n",
       "      <td></td>\n",
       "      <td>27831</td>\n",
       "      <td>4780</td>\n",
       "      <td>...</td>\n",
       "      <td>1207</td>\n",
       "      <td>619</td>\n",
       "      <td>655</td>\n",
       "      <td>18143</td>\n",
       "      <td>17.2</td>\n",
       "      <td>8.7</td>\n",
       "      <td>4.3</td>\n",
       "      <td>2.2</td>\n",
       "      <td>2.4</td>\n",
       "      <td>65.2</td>\n",
       "    </tr>\n",
       "    <tr>\n",
       "      <th>1</th>\n",
       "      <td>7</td>\n",
       "      <td>שחר</td>\n",
       "      <td>61</td>\n",
       "      <td>אשקלון</td>\n",
       "      <td>61</td>\n",
       "      <td>אשקלון</td>\n",
       "      <td>50</td>\n",
       "      <td>לכיש</td>\n",
       "      <td>783</td>\n",
       "      <td>58</td>\n",
       "      <td>...</td>\n",
       "      <td>267</td>\n",
       "      <td>95</td>\n",
       "      <td>73</td>\n",
       "      <td>93</td>\n",
       "      <td>7.4</td>\n",
       "      <td>25.2</td>\n",
       "      <td>34.1</td>\n",
       "      <td>12.1</td>\n",
       "      <td>9.3</td>\n",
       "      <td>11.9</td>\n",
       "    </tr>\n",
       "    <tr>\n",
       "      <th>2</th>\n",
       "      <td>10</td>\n",
       "      <td>תירוש</td>\n",
       "      <td>11</td>\n",
       "      <td>ירושלים</td>\n",
       "      <td>13</td>\n",
       "      <td>בית שמש</td>\n",
       "      <td>26</td>\n",
       "      <td>מטה יהודה</td>\n",
       "      <td>443</td>\n",
       "      <td>33</td>\n",
       "      <td>...</td>\n",
       "      <td>160</td>\n",
       "      <td>52</td>\n",
       "      <td>57</td>\n",
       "      <td>65</td>\n",
       "      <td>7.4</td>\n",
       "      <td>17.2</td>\n",
       "      <td>36.1</td>\n",
       "      <td>11.7</td>\n",
       "      <td>12.9</td>\n",
       "      <td>14.7</td>\n",
       "    </tr>\n",
       "    <tr>\n",
       "      <th>3</th>\n",
       "      <td>11</td>\n",
       "      <td>ניר ח\"ן</td>\n",
       "      <td>61</td>\n",
       "      <td>אשקלון</td>\n",
       "      <td>61</td>\n",
       "      <td>אשקלון</td>\n",
       "      <td>50</td>\n",
       "      <td>לכיש</td>\n",
       "      <td>626</td>\n",
       "      <td>42</td>\n",
       "      <td>...</td>\n",
       "      <td>198</td>\n",
       "      <td>82</td>\n",
       "      <td>63</td>\n",
       "      <td>106</td>\n",
       "      <td>6.7</td>\n",
       "      <td>21.6</td>\n",
       "      <td>31.6</td>\n",
       "      <td>13.1</td>\n",
       "      <td>10.1</td>\n",
       "      <td>16.9</td>\n",
       "    </tr>\n",
       "    <tr>\n",
       "      <th>4</th>\n",
       "      <td>13</td>\n",
       "      <td>חצבה</td>\n",
       "      <td>62</td>\n",
       "      <td>באר שבע</td>\n",
       "      <td>63</td>\n",
       "      <td>אילת</td>\n",
       "      <td>54</td>\n",
       "      <td>הערבה התיכונה</td>\n",
       "      <td>723</td>\n",
       "      <td>39</td>\n",
       "      <td>...</td>\n",
       "      <td>196</td>\n",
       "      <td>100</td>\n",
       "      <td>38</td>\n",
       "      <td>149</td>\n",
       "      <td>5.4</td>\n",
       "      <td>27.8</td>\n",
       "      <td>27.1</td>\n",
       "      <td>13.8</td>\n",
       "      <td>5.3</td>\n",
       "      <td>20.6</td>\n",
       "    </tr>\n",
       "    <tr>\n",
       "      <th>...</th>\n",
       "      <td>...</td>\n",
       "      <td>...</td>\n",
       "      <td>...</td>\n",
       "      <td>...</td>\n",
       "      <td>...</td>\n",
       "      <td>...</td>\n",
       "      <td>...</td>\n",
       "      <td>...</td>\n",
       "      <td>...</td>\n",
       "      <td>...</td>\n",
       "      <td>...</td>\n",
       "      <td>...</td>\n",
       "      <td>...</td>\n",
       "      <td>...</td>\n",
       "      <td>...</td>\n",
       "      <td>...</td>\n",
       "      <td>...</td>\n",
       "      <td>...</td>\n",
       "      <td>...</td>\n",
       "      <td>...</td>\n",
       "      <td>...</td>\n",
       "    </tr>\n",
       "    <tr>\n",
       "      <th>1257</th>\n",
       "      <td>9400</td>\n",
       "      <td>יהוד-מונוסון</td>\n",
       "      <td>42</td>\n",
       "      <td>פתח תקווה</td>\n",
       "      <td>42</td>\n",
       "      <td>פתח תקוה</td>\n",
       "      <td>0</td>\n",
       "      <td></td>\n",
       "      <td>32484</td>\n",
       "      <td>2254</td>\n",
       "      <td>...</td>\n",
       "      <td>10555</td>\n",
       "      <td>4298</td>\n",
       "      <td>3033</td>\n",
       "      <td>6017</td>\n",
       "      <td>6.9</td>\n",
       "      <td>19.5</td>\n",
       "      <td>32.5</td>\n",
       "      <td>13.2</td>\n",
       "      <td>9.3</td>\n",
       "      <td>18.5</td>\n",
       "    </tr>\n",
       "    <tr>\n",
       "      <th>1258</th>\n",
       "      <td>9500</td>\n",
       "      <td>קרית ביאליק</td>\n",
       "      <td>31</td>\n",
       "      <td>חיפה</td>\n",
       "      <td>31</td>\n",
       "      <td>חיפה</td>\n",
       "      <td>0</td>\n",
       "      <td></td>\n",
       "      <td>47629</td>\n",
       "      <td>3250</td>\n",
       "      <td>...</td>\n",
       "      <td>15822</td>\n",
       "      <td>5642</td>\n",
       "      <td>4442</td>\n",
       "      <td>10749</td>\n",
       "      <td>6.8</td>\n",
       "      <td>16.2</td>\n",
       "      <td>33.2</td>\n",
       "      <td>11.8</td>\n",
       "      <td>9.3</td>\n",
       "      <td>22.6</td>\n",
       "    </tr>\n",
       "    <tr>\n",
       "      <th>1259</th>\n",
       "      <td>9600</td>\n",
       "      <td>קרית ים</td>\n",
       "      <td>31</td>\n",
       "      <td>חיפה</td>\n",
       "      <td>31</td>\n",
       "      <td>חיפה</td>\n",
       "      <td>0</td>\n",
       "      <td></td>\n",
       "      <td>45429</td>\n",
       "      <td>2113</td>\n",
       "      <td>...</td>\n",
       "      <td>13969</td>\n",
       "      <td>5580</td>\n",
       "      <td>5099</td>\n",
       "      <td>12400</td>\n",
       "      <td>4.7</td>\n",
       "      <td>13.8</td>\n",
       "      <td>30.7</td>\n",
       "      <td>12.3</td>\n",
       "      <td>11.2</td>\n",
       "      <td>27.3</td>\n",
       "    </tr>\n",
       "    <tr>\n",
       "      <th>1260</th>\n",
       "      <td>9700</td>\n",
       "      <td>הוד השרון</td>\n",
       "      <td>42</td>\n",
       "      <td>פתח תקווה</td>\n",
       "      <td>47</td>\n",
       "      <td>כפר סבא</td>\n",
       "      <td>0</td>\n",
       "      <td></td>\n",
       "      <td>68191</td>\n",
       "      <td>4993</td>\n",
       "      <td>...</td>\n",
       "      <td>21814</td>\n",
       "      <td>9827</td>\n",
       "      <td>6093</td>\n",
       "      <td>10855</td>\n",
       "      <td>7.3</td>\n",
       "      <td>21.4</td>\n",
       "      <td>32.0</td>\n",
       "      <td>14.4</td>\n",
       "      <td>8.9</td>\n",
       "      <td>15.9</td>\n",
       "    </tr>\n",
       "    <tr>\n",
       "      <th>1261</th>\n",
       "      <td>9800</td>\n",
       "      <td>בנימינה-גבעת עדה</td>\n",
       "      <td>32</td>\n",
       "      <td>חדרה</td>\n",
       "      <td>32</td>\n",
       "      <td>חדרה</td>\n",
       "      <td>0</td>\n",
       "      <td></td>\n",
       "      <td>16093</td>\n",
       "      <td>1010</td>\n",
       "      <td>...</td>\n",
       "      <td>5092</td>\n",
       "      <td>2653</td>\n",
       "      <td>1359</td>\n",
       "      <td>1731</td>\n",
       "      <td>6.3</td>\n",
       "      <td>26.4</td>\n",
       "      <td>31.6</td>\n",
       "      <td>16.5</td>\n",
       "      <td>8.4</td>\n",
       "      <td>10.8</td>\n",
       "    </tr>\n",
       "  </tbody>\n",
       "</table>\n",
       "<p>1262 rows × 21 columns</p>\n",
       "</div>"
      ],
      "text/plain": [
       "      סמל_ישוב           שם_ישוב סמל_נפה         נפה קוד_לשכת_מנא   לשכת_מנא  \\\n",
       "0            0           לא רשום      0     לא ידוע            0               \n",
       "1            7               שחר     61      אשקלון           61     אשקלון    \n",
       "2           10             תירוש     11     ירושלים           13    בית שמש    \n",
       "3           11           ניר ח\"ן     61      אשקלון           61     אשקלון    \n",
       "4           13              חצבה     62     באר שבע           63       אילת    \n",
       "...        ...               ...     ...         ...          ...        ...   \n",
       "1257      9400      יהוד-מונוסון     42   פתח תקווה           42   פתח תקוה    \n",
       "1258      9500       קרית ביאליק     31        חיפה           31       חיפה    \n",
       "1259      9600           קרית ים     31        חיפה           31       חיפה    \n",
       "1260      9700         הוד השרון     42   פתח תקווה           47    כפר סבא    \n",
       "1261      9800  בנימינה-גבעת עדה     32        חדרה           32       חדרה    \n",
       "\n",
       "     קוד_מועצה_אזורית    מועצה_אזורית    סהכ  גיל_0_5  ...  גיל_19_45  \\\n",
       "0                  0                   27831     4780  ...       1207   \n",
       "1                 50            לכיש     783       58  ...        267   \n",
       "2                 26       מטה יהודה     443       33  ...        160   \n",
       "3                 50            לכיש     626       42  ...        198   \n",
       "4                 54   הערבה התיכונה     723       39  ...        196   \n",
       "...               ...             ...    ...      ...  ...        ...   \n",
       "1257               0                   32484     2254  ...      10555   \n",
       "1258               0                   47629     3250  ...      15822   \n",
       "1259               0                   45429     2113  ...      13969   \n",
       "1260               0                   68191     4993  ...      21814   \n",
       "1261               0                   16093     1010  ...       5092   \n",
       "\n",
       "      גיל_46_55  גיל_56_64  גיל_65_פלוס   0_5  6_18  19_45  46_55  56_64   65_  \n",
       "0           619        655        18143  17.2   8.7    4.3    2.2    2.4  65.2  \n",
       "1            95         73           93   7.4  25.2   34.1   12.1    9.3  11.9  \n",
       "2            52         57           65   7.4  17.2   36.1   11.7   12.9  14.7  \n",
       "3            82         63          106   6.7  21.6   31.6   13.1   10.1  16.9  \n",
       "4           100         38          149   5.4  27.8   27.1   13.8    5.3  20.6  \n",
       "...         ...        ...          ...   ...   ...    ...    ...    ...   ...  \n",
       "1257       4298       3033         6017   6.9  19.5   32.5   13.2    9.3  18.5  \n",
       "1258       5642       4442        10749   6.8  16.2   33.2   11.8    9.3  22.6  \n",
       "1259       5580       5099        12400   4.7  13.8   30.7   12.3   11.2  27.3  \n",
       "1260       9827       6093        10855   7.3  21.4   32.0   14.4    8.9  15.9  \n",
       "1261       2653       1359         1731   6.3  26.4   31.6   16.5    8.4  10.8  \n",
       "\n",
       "[1262 rows x 21 columns]"
      ]
     },
     "execution_count": 98,
     "metadata": {},
     "output_type": "execute_result"
    }
   ],
   "source": [
    "df.round({'0_5': 1,\n",
    "          '6_18': 1,\n",
    "          '19_45': 1,\n",
    "          '46_55': 1,\n",
    "          '56_64': 1,\n",
    "          '65_' : 1         \n",
    "         })"
   ]
  },
  {
   "cell_type": "code",
   "execution_count": 99,
   "id": "f3c1608f",
   "metadata": {},
   "outputs": [],
   "source": [
    "#df['0_5'] = pd.Series([\"{:.0%}\".format(val * 1) for val in df['0_5']], index = df.index)\n",
    "#df['6_18'] = pd.Series([\"{:.0%}\".format(val * 1) for val in df['6_18']], index = df.index)\n",
    "#df['19_45'] = pd.Series([\"{:.0%}\".format(val * 1) for val in df['19_45']], index = df.index)\n",
    "#df['46_55'] = pd.Series([\"{:.0%}\".format(val * 1) for val in df['46_55']], index = df.index)\n",
    "#df['56_64'] = pd.Series([\"{:.0%}\".format(val * 1) for val in df['56_64']], index = df.index)\n",
    "#df['65_'] = pd.Series([\"{:.0%}\".format(val * 1) for val in df['65_']], index = df.index)\n"
   ]
  },
  {
   "cell_type": "code",
   "execution_count": 100,
   "id": "457be9f5",
   "metadata": {},
   "outputs": [
    {
     "data": {
      "text/html": [
       "<div>\n",
       "<style scoped>\n",
       "    .dataframe tbody tr th:only-of-type {\n",
       "        vertical-align: middle;\n",
       "    }\n",
       "\n",
       "    .dataframe tbody tr th {\n",
       "        vertical-align: top;\n",
       "    }\n",
       "\n",
       "    .dataframe thead th {\n",
       "        text-align: right;\n",
       "    }\n",
       "</style>\n",
       "<table border=\"1\" class=\"dataframe\">\n",
       "  <thead>\n",
       "    <tr style=\"text-align: right;\">\n",
       "      <th></th>\n",
       "      <th>סמל_ישוב</th>\n",
       "      <th>שם_ישוב</th>\n",
       "      <th>סמל_נפה</th>\n",
       "      <th>נפה</th>\n",
       "      <th>קוד_לשכת_מנא</th>\n",
       "      <th>לשכת_מנא</th>\n",
       "      <th>קוד_מועצה_אזורית</th>\n",
       "      <th>מועצה_אזורית</th>\n",
       "      <th>סהכ</th>\n",
       "      <th>גיל_0_5</th>\n",
       "      <th>...</th>\n",
       "      <th>גיל_19_45</th>\n",
       "      <th>גיל_46_55</th>\n",
       "      <th>גיל_56_64</th>\n",
       "      <th>גיל_65_פלוס</th>\n",
       "      <th>0_5</th>\n",
       "      <th>6_18</th>\n",
       "      <th>19_45</th>\n",
       "      <th>46_55</th>\n",
       "      <th>56_64</th>\n",
       "      <th>65_</th>\n",
       "    </tr>\n",
       "  </thead>\n",
       "  <tbody>\n",
       "    <tr>\n",
       "      <th>0</th>\n",
       "      <td>0</td>\n",
       "      <td>לא רשום</td>\n",
       "      <td>0</td>\n",
       "      <td>לא ידוע</td>\n",
       "      <td>0</td>\n",
       "      <td></td>\n",
       "      <td>0</td>\n",
       "      <td></td>\n",
       "      <td>27831</td>\n",
       "      <td>4780</td>\n",
       "      <td>...</td>\n",
       "      <td>1207</td>\n",
       "      <td>619</td>\n",
       "      <td>655</td>\n",
       "      <td>18143</td>\n",
       "      <td>17.175093</td>\n",
       "      <td>8.720492</td>\n",
       "      <td>4.336891</td>\n",
       "      <td>2.224139</td>\n",
       "      <td>2.353491</td>\n",
       "      <td>65.189896</td>\n",
       "    </tr>\n",
       "    <tr>\n",
       "      <th>1</th>\n",
       "      <td>7</td>\n",
       "      <td>שחר</td>\n",
       "      <td>61</td>\n",
       "      <td>אשקלון</td>\n",
       "      <td>61</td>\n",
       "      <td>אשקלון</td>\n",
       "      <td>50</td>\n",
       "      <td>לכיש</td>\n",
       "      <td>783</td>\n",
       "      <td>58</td>\n",
       "      <td>...</td>\n",
       "      <td>267</td>\n",
       "      <td>95</td>\n",
       "      <td>73</td>\n",
       "      <td>93</td>\n",
       "      <td>7.407407</td>\n",
       "      <td>25.159642</td>\n",
       "      <td>34.099617</td>\n",
       "      <td>12.132822</td>\n",
       "      <td>9.323116</td>\n",
       "      <td>11.877395</td>\n",
       "    </tr>\n",
       "    <tr>\n",
       "      <th>2</th>\n",
       "      <td>10</td>\n",
       "      <td>תירוש</td>\n",
       "      <td>11</td>\n",
       "      <td>ירושלים</td>\n",
       "      <td>13</td>\n",
       "      <td>בית שמש</td>\n",
       "      <td>26</td>\n",
       "      <td>מטה יהודה</td>\n",
       "      <td>443</td>\n",
       "      <td>33</td>\n",
       "      <td>...</td>\n",
       "      <td>160</td>\n",
       "      <td>52</td>\n",
       "      <td>57</td>\n",
       "      <td>65</td>\n",
       "      <td>7.449210</td>\n",
       "      <td>17.155756</td>\n",
       "      <td>36.117381</td>\n",
       "      <td>11.738149</td>\n",
       "      <td>12.866817</td>\n",
       "      <td>14.672686</td>\n",
       "    </tr>\n",
       "    <tr>\n",
       "      <th>3</th>\n",
       "      <td>11</td>\n",
       "      <td>ניר ח\"ן</td>\n",
       "      <td>61</td>\n",
       "      <td>אשקלון</td>\n",
       "      <td>61</td>\n",
       "      <td>אשקלון</td>\n",
       "      <td>50</td>\n",
       "      <td>לכיש</td>\n",
       "      <td>626</td>\n",
       "      <td>42</td>\n",
       "      <td>...</td>\n",
       "      <td>198</td>\n",
       "      <td>82</td>\n",
       "      <td>63</td>\n",
       "      <td>106</td>\n",
       "      <td>6.709265</td>\n",
       "      <td>21.565495</td>\n",
       "      <td>31.629393</td>\n",
       "      <td>13.099042</td>\n",
       "      <td>10.063898</td>\n",
       "      <td>16.932907</td>\n",
       "    </tr>\n",
       "    <tr>\n",
       "      <th>4</th>\n",
       "      <td>13</td>\n",
       "      <td>חצבה</td>\n",
       "      <td>62</td>\n",
       "      <td>באר שבע</td>\n",
       "      <td>63</td>\n",
       "      <td>אילת</td>\n",
       "      <td>54</td>\n",
       "      <td>הערבה התיכונה</td>\n",
       "      <td>723</td>\n",
       "      <td>39</td>\n",
       "      <td>...</td>\n",
       "      <td>196</td>\n",
       "      <td>100</td>\n",
       "      <td>38</td>\n",
       "      <td>149</td>\n",
       "      <td>5.394191</td>\n",
       "      <td>27.800830</td>\n",
       "      <td>27.109267</td>\n",
       "      <td>13.831259</td>\n",
       "      <td>5.255878</td>\n",
       "      <td>20.608575</td>\n",
       "    </tr>\n",
       "  </tbody>\n",
       "</table>\n",
       "<p>5 rows × 21 columns</p>\n",
       "</div>"
      ],
      "text/plain": [
       "   סמל_ישוב  שם_ישוב סמל_נפה       נפה קוד_לשכת_מנא  לשכת_מנא  \\\n",
       "0         0  לא רשום      0   לא ידוע            0              \n",
       "1         7      שחר     61    אשקלון           61    אשקלון    \n",
       "2        10    תירוש     11   ירושלים           13   בית שמש    \n",
       "3        11  ניר ח\"ן     61    אשקלון           61    אשקלון    \n",
       "4        13     חצבה     62   באר שבע           63      אילת    \n",
       "\n",
       "  קוד_מועצה_אזורית    מועצה_אזורית    סהכ  גיל_0_5  ...  גיל_19_45  גיל_46_55  \\\n",
       "0               0                   27831     4780  ...       1207        619   \n",
       "1              50            לכיש     783       58  ...        267         95   \n",
       "2              26       מטה יהודה     443       33  ...        160         52   \n",
       "3              50            לכיש     626       42  ...        198         82   \n",
       "4              54   הערבה התיכונה     723       39  ...        196        100   \n",
       "\n",
       "   גיל_56_64  גיל_65_פלוס        0_5       6_18      19_45      46_55  \\\n",
       "0        655        18143  17.175093   8.720492   4.336891   2.224139   \n",
       "1         73           93   7.407407  25.159642  34.099617  12.132822   \n",
       "2         57           65   7.449210  17.155756  36.117381  11.738149   \n",
       "3         63          106   6.709265  21.565495  31.629393  13.099042   \n",
       "4         38          149   5.394191  27.800830  27.109267  13.831259   \n",
       "\n",
       "       56_64        65_  \n",
       "0   2.353491  65.189896  \n",
       "1   9.323116  11.877395  \n",
       "2  12.866817  14.672686  \n",
       "3  10.063898  16.932907  \n",
       "4   5.255878  20.608575  \n",
       "\n",
       "[5 rows x 21 columns]"
      ]
     },
     "execution_count": 100,
     "metadata": {},
     "output_type": "execute_result"
    }
   ],
   "source": [
    "df.head()"
   ]
  },
  {
   "cell_type": "code",
   "execution_count": 101,
   "id": "795ddf1b",
   "metadata": {},
   "outputs": [
    {
     "data": {
      "text/plain": [
       "<AxesSubplot:>"
      ]
     },
     "execution_count": 101,
     "metadata": {},
     "output_type": "execute_result"
    },
    {
     "data": {
      "image/png": "[encoded data removed]",
      "text/plain": [
       "<Figure size 432x288 with 1 Axes>"
      ]
     },
     "metadata": {
      "needs_background": "light"
     },
     "output_type": "display_data"
    }
   ],
   "source": [
    "row = df.iloc[4]\n",
    "row1 = row[[\n",
    "          '0_5',\n",
    "          '6_18',\n",
    "          '19_45',\n",
    "          '46_55',\n",
    "          '56_64',\n",
    "          '65_'         \n",
    "]]\n",
    "\n",
    "row1.plot(kind='bar')"
   ]
  },
  {
   "cell_type": "code",
   "execution_count": 102,
   "id": "579c1e05",
   "metadata": {},
   "outputs": [
    {
     "data": {
      "text/plain": [
       "0_5       5.394191\n",
       "6_18      27.80083\n",
       "19_45    27.109267\n",
       "46_55    13.831259\n",
       "56_64     5.255878\n",
       "65_      20.608575\n",
       "Name: 4, dtype: object"
      ]
     },
     "execution_count": 102,
     "metadata": {},
     "output_type": "execute_result"
    }
   ],
   "source": [
    "row1"
   ]
  },
  {
   "cell_type": "markdown",
   "id": "dff7b408",
   "metadata": {},
   "source": [
    "create function that will plot bar plot for age distribution in specific settlement"
   ]
  },
  {
   "cell_type": "code",
   "execution_count": 103,
   "id": "1f27895d",
   "metadata": {},
   "outputs": [],
   "source": [
    "def create_bar_plot(row, settlement_name):\n",
    "    my_row = row\n",
    "    my_row.reset_index(inplace=True)\n",
    "    my_row = my_row.iloc[0]\n",
    "    my_row = my_row[[\n",
    "          '0_5',\n",
    "          '6_18',\n",
    "          '19_45',\n",
    "          '46_55',\n",
    "          '56_64',\n",
    "          '65_'         \n",
    "    ]]\n",
    "    \n",
    "    x_label = 'קבוצת גיל'\n",
    "    y_label = 'אחוז מכלל התושבים'\n",
    "    plt.figure()\n",
    "    my_plot = my_row.plot(kind='bar', title=settlement_name[::-1])\n",
    "    my_plot.set_xlabel(x_label[::-1])\n",
    "    my_plot.set_ylabel(y_label[::-1])\n",
    "\n",
    "    return my_plot"
   ]
  },
  {
   "cell_type": "code",
   "execution_count": 104,
   "id": "2b6098fc",
   "metadata": {
    "scrolled": true
   },
   "outputs": [
    {
     "data": {
      "text/html": [
       "<div>\n",
       "<style scoped>\n",
       "    .dataframe tbody tr th:only-of-type {\n",
       "        vertical-align: middle;\n",
       "    }\n",
       "\n",
       "    .dataframe tbody tr th {\n",
       "        vertical-align: top;\n",
       "    }\n",
       "\n",
       "    .dataframe thead th {\n",
       "        text-align: right;\n",
       "    }\n",
       "</style>\n",
       "<table border=\"1\" class=\"dataframe\">\n",
       "  <thead>\n",
       "    <tr style=\"text-align: right;\">\n",
       "      <th></th>\n",
       "      <th>סמל_ישוב</th>\n",
       "      <th>שם_ישוב</th>\n",
       "      <th>סמל_נפה</th>\n",
       "      <th>נפה</th>\n",
       "      <th>קוד_לשכת_מנא</th>\n",
       "      <th>לשכת_מנא</th>\n",
       "      <th>קוד_מועצה_אזורית</th>\n",
       "      <th>מועצה_אזורית</th>\n",
       "      <th>סהכ</th>\n",
       "      <th>גיל_0_5</th>\n",
       "      <th>...</th>\n",
       "      <th>גיל_19_45</th>\n",
       "      <th>גיל_46_55</th>\n",
       "      <th>גיל_56_64</th>\n",
       "      <th>גיל_65_פלוס</th>\n",
       "      <th>0_5</th>\n",
       "      <th>6_18</th>\n",
       "      <th>19_45</th>\n",
       "      <th>46_55</th>\n",
       "      <th>56_64</th>\n",
       "      <th>65_</th>\n",
       "    </tr>\n",
       "  </thead>\n",
       "  <tbody>\n",
       "    <tr>\n",
       "      <th>1250</th>\n",
       "      <td>8700</td>\n",
       "      <td>רעננה</td>\n",
       "      <td>42</td>\n",
       "      <td>פתח תקווה</td>\n",
       "      <td>47</td>\n",
       "      <td>כפר סבא</td>\n",
       "      <td>0</td>\n",
       "      <td></td>\n",
       "      <td>93977</td>\n",
       "      <td>5905</td>\n",
       "      <td>...</td>\n",
       "      <td>29851</td>\n",
       "      <td>12511</td>\n",
       "      <td>8920</td>\n",
       "      <td>19313</td>\n",
       "      <td>6.283452</td>\n",
       "      <td>18.597104</td>\n",
       "      <td>31.764155</td>\n",
       "      <td>13.312832</td>\n",
       "      <td>9.491684</td>\n",
       "      <td>20.550773</td>\n",
       "    </tr>\n",
       "  </tbody>\n",
       "</table>\n",
       "<p>1 rows × 21 columns</p>\n",
       "</div>"
      ],
      "text/plain": [
       "      סמל_ישוב שם_ישוב סמל_נפה         נפה קוד_לשכת_מנא  לשכת_מנא  \\\n",
       "1250      8700   רעננה     42   פתח תקווה           47   כפר סבא    \n",
       "\n",
       "     קוד_מועצה_אזורית מועצה_אזורית    סהכ  גיל_0_5  ...  גיל_19_45  גיל_46_55  \\\n",
       "1250               0                93977     5905  ...      29851      12511   \n",
       "\n",
       "      גיל_56_64  גיל_65_פלוס       0_5       6_18      19_45      46_55  \\\n",
       "1250       8920        19313  6.283452  18.597104  31.764155  13.312832   \n",
       "\n",
       "         56_64        65_  \n",
       "1250  9.491684  20.550773  \n",
       "\n",
       "[1 rows x 21 columns]"
      ]
     },
     "execution_count": 104,
     "metadata": {},
     "output_type": "execute_result"
    }
   ],
   "source": [
    "#row = df.loc['קרית ים']\n",
    "#row\n",
    "raanana = 'רעננה'\n",
    "a= df.loc[df['שם_ישוב'] == raanana]\n",
    "a"
   ]
  },
  {
   "cell_type": "code",
   "execution_count": 105,
   "id": "e2a8f333",
   "metadata": {},
   "outputs": [
    {
     "data": {
      "text/plain": [
       "<AxesSubplot:title={'center':'הננער'}, xlabel='ליג תצובק', ylabel='םיבשותה ללכמ זוחא'>"
      ]
     },
     "execution_count": 105,
     "metadata": {},
     "output_type": "execute_result"
    },
    {
     "data": {
      "image/png": "[encoded data removed]",
      "text/plain": [
       "<Figure size 432x288 with 1 Axes>"
      ]
     },
     "metadata": {
      "needs_background": "light"
     },
     "output_type": "display_data"
    }
   ],
   "source": [
    "create_bar_plot(a, raanana)"
   ]
  },
  {
   "cell_type": "code",
   "execution_count": 106,
   "id": "fcabce1e",
   "metadata": {},
   "outputs": [],
   "source": [
    "def distribution_for_settlement(settlement_name: str, data_frame):\n",
    "    my_df = data_frame.loc[data_frame['שם_ישוב'] == settlement_name]\n",
    "    \n",
    "    return create_bar_plot(my_df, settlement_name)"
   ]
  },
  {
   "cell_type": "code",
   "execution_count": 107,
   "id": "26917e45",
   "metadata": {},
   "outputs": [
    {
     "data": {
      "text/plain": [
       "<AxesSubplot:title={'center':'םי תירק'}, xlabel='ליג תצובק', ylabel='םיבשותה ללכמ זוחא'>"
      ]
     },
     "execution_count": 107,
     "metadata": {},
     "output_type": "execute_result"
    },
    {
     "data": {
      "image/png": "[encoded data removed]",
      "text/plain": [
       "<Figure size 432x288 with 1 Axes>"
      ]
     },
     "metadata": {
      "needs_background": "light"
     },
     "output_type": "display_data"
    }
   ],
   "source": [
    "distribution_for_settlement(settlement_name='קרית ים' , data_frame=df)"
   ]
  },
  {
   "cell_type": "code",
   "execution_count": 108,
   "id": "3bdef526",
   "metadata": {
    "scrolled": true
   },
   "outputs": [
    {
     "data": {
      "text/plain": [
       "<AxesSubplot:title={'center':'למרכ תריט'}, xlabel='ליג תצובק', ylabel='םיבשותה ללכמ זוחא'>"
      ]
     },
     "execution_count": 108,
     "metadata": {},
     "output_type": "execute_result"
    },
    {
     "data": {
      "image/png": "[encoded data removed]",
      "text/plain": [
       "<Figure size 432x288 with 1 Axes>"
      ]
     },
     "metadata": {
      "needs_background": "light"
     },
     "output_type": "display_data"
    }
   ],
   "source": [
    "distribution_for_settlement(settlement_name='טירת כרמל' , data_frame=df)"
   ]
  },
  {
   "cell_type": "markdown",
   "id": "d5c590eb",
   "metadata": {},
   "source": [
    "We studied how to plot the population distribution for a settlement. Now lets improve the plots with headline and get plots for all the cities in Israel sort by residents amount "
   ]
  },
  {
   "cell_type": "code",
   "execution_count": 109,
   "id": "c834178d",
   "metadata": {
    "scrolled": true
   },
   "outputs": [
    {
     "data": {
      "text/html": [
       "<div>\n",
       "<style scoped>\n",
       "    .dataframe tbody tr th:only-of-type {\n",
       "        vertical-align: middle;\n",
       "    }\n",
       "\n",
       "    .dataframe tbody tr th {\n",
       "        vertical-align: top;\n",
       "    }\n",
       "\n",
       "    .dataframe thead th {\n",
       "        text-align: right;\n",
       "    }\n",
       "</style>\n",
       "<table border=\"1\" class=\"dataframe\">\n",
       "  <thead>\n",
       "    <tr style=\"text-align: right;\">\n",
       "      <th></th>\n",
       "      <th>סמל_ישוב</th>\n",
       "      <th>שם_ישוב</th>\n",
       "      <th>סמל_נפה</th>\n",
       "      <th>נפה</th>\n",
       "      <th>קוד_לשכת_מנא</th>\n",
       "      <th>לשכת_מנא</th>\n",
       "      <th>קוד_מועצה_אזורית</th>\n",
       "      <th>מועצה_אזורית</th>\n",
       "      <th>סהכ</th>\n",
       "      <th>גיל_0_5</th>\n",
       "      <th>...</th>\n",
       "      <th>גיל_19_45</th>\n",
       "      <th>גיל_46_55</th>\n",
       "      <th>גיל_56_64</th>\n",
       "      <th>גיל_65_פלוס</th>\n",
       "      <th>0_5</th>\n",
       "      <th>6_18</th>\n",
       "      <th>19_45</th>\n",
       "      <th>46_55</th>\n",
       "      <th>56_64</th>\n",
       "      <th>65_</th>\n",
       "    </tr>\n",
       "  </thead>\n",
       "  <tbody>\n",
       "    <tr>\n",
       "      <th>0</th>\n",
       "      <td>3000</td>\n",
       "      <td>ירושלים</td>\n",
       "      <td>11</td>\n",
       "      <td>ירושלים</td>\n",
       "      <td>11</td>\n",
       "      <td>ירושלים</td>\n",
       "      <td>0</td>\n",
       "      <td></td>\n",
       "      <td>1042259</td>\n",
       "      <td>118840</td>\n",
       "      <td>...</td>\n",
       "      <td>375666</td>\n",
       "      <td>91177</td>\n",
       "      <td>70618</td>\n",
       "      <td>122727</td>\n",
       "      <td>11.402156</td>\n",
       "      <td>25.255815</td>\n",
       "      <td>36.043440</td>\n",
       "      <td>8.748018</td>\n",
       "      <td>6.775475</td>\n",
       "      <td>11.775096</td>\n",
       "    </tr>\n",
       "    <tr>\n",
       "      <th>1</th>\n",
       "      <td>5000</td>\n",
       "      <td>תל אביב - יפו</td>\n",
       "      <td>51</td>\n",
       "      <td>תל אביב</td>\n",
       "      <td>51</td>\n",
       "      <td>ת\"א - מרכז</td>\n",
       "      <td>0</td>\n",
       "      <td></td>\n",
       "      <td>565977</td>\n",
       "      <td>34499</td>\n",
       "      <td>...</td>\n",
       "      <td>224640</td>\n",
       "      <td>69317</td>\n",
       "      <td>49986</td>\n",
       "      <td>115227</td>\n",
       "      <td>6.095477</td>\n",
       "      <td>12.775784</td>\n",
       "      <td>39.690659</td>\n",
       "      <td>12.247317</td>\n",
       "      <td>8.831808</td>\n",
       "      <td>20.358955</td>\n",
       "    </tr>\n",
       "    <tr>\n",
       "      <th>2</th>\n",
       "      <td>4000</td>\n",
       "      <td>חיפה</td>\n",
       "      <td>31</td>\n",
       "      <td>חיפה</td>\n",
       "      <td>31</td>\n",
       "      <td>חיפה</td>\n",
       "      <td>0</td>\n",
       "      <td></td>\n",
       "      <td>324291</td>\n",
       "      <td>19116</td>\n",
       "      <td>...</td>\n",
       "      <td>105041</td>\n",
       "      <td>39340</td>\n",
       "      <td>32661</td>\n",
       "      <td>79352</td>\n",
       "      <td>5.894706</td>\n",
       "      <td>15.042354</td>\n",
       "      <td>32.390970</td>\n",
       "      <td>12.131080</td>\n",
       "      <td>10.071510</td>\n",
       "      <td>24.469381</td>\n",
       "    </tr>\n",
       "    <tr>\n",
       "      <th>3</th>\n",
       "      <td>7900</td>\n",
       "      <td>פתח תקווה</td>\n",
       "      <td>42</td>\n",
       "      <td>פתח תקווה</td>\n",
       "      <td>42</td>\n",
       "      <td>פתח תקוה</td>\n",
       "      <td>0</td>\n",
       "      <td></td>\n",
       "      <td>275734</td>\n",
       "      <td>21266</td>\n",
       "      <td>...</td>\n",
       "      <td>91022</td>\n",
       "      <td>35069</td>\n",
       "      <td>22655</td>\n",
       "      <td>50181</td>\n",
       "      <td>7.712506</td>\n",
       "      <td>20.142964</td>\n",
       "      <td>33.010800</td>\n",
       "      <td>12.718417</td>\n",
       "      <td>8.216252</td>\n",
       "      <td>18.199061</td>\n",
       "    </tr>\n",
       "    <tr>\n",
       "      <th>4</th>\n",
       "      <td>8300</td>\n",
       "      <td>ראשון לציון</td>\n",
       "      <td>44</td>\n",
       "      <td>רחובות</td>\n",
       "      <td>46</td>\n",
       "      <td>ראשון לציון</td>\n",
       "      <td>0</td>\n",
       "      <td></td>\n",
       "      <td>274391</td>\n",
       "      <td>17871</td>\n",
       "      <td>...</td>\n",
       "      <td>94509</td>\n",
       "      <td>35195</td>\n",
       "      <td>27306</td>\n",
       "      <td>55310</td>\n",
       "      <td>6.512969</td>\n",
       "      <td>16.108400</td>\n",
       "      <td>34.443185</td>\n",
       "      <td>12.826587</td>\n",
       "      <td>9.951493</td>\n",
       "      <td>20.157367</td>\n",
       "    </tr>\n",
       "    <tr>\n",
       "      <th>5</th>\n",
       "      <td>7400</td>\n",
       "      <td>נתניה</td>\n",
       "      <td>41</td>\n",
       "      <td>השרון</td>\n",
       "      <td>41</td>\n",
       "      <td>נתניה</td>\n",
       "      <td>0</td>\n",
       "      <td></td>\n",
       "      <td>259079</td>\n",
       "      <td>18399</td>\n",
       "      <td>...</td>\n",
       "      <td>83621</td>\n",
       "      <td>30000</td>\n",
       "      <td>24122</td>\n",
       "      <td>56860</td>\n",
       "      <td>7.101695</td>\n",
       "      <td>17.784923</td>\n",
       "      <td>32.276256</td>\n",
       "      <td>11.579480</td>\n",
       "      <td>9.310674</td>\n",
       "      <td>21.946974</td>\n",
       "    </tr>\n",
       "    <tr>\n",
       "      <th>6</th>\n",
       "      <td>70</td>\n",
       "      <td>אשדוד</td>\n",
       "      <td>61</td>\n",
       "      <td>אשקלון</td>\n",
       "      <td>69</td>\n",
       "      <td>אשדוד</td>\n",
       "      <td>0</td>\n",
       "      <td></td>\n",
       "      <td>255353</td>\n",
       "      <td>20810</td>\n",
       "      <td>...</td>\n",
       "      <td>84380</td>\n",
       "      <td>29571</td>\n",
       "      <td>23706</td>\n",
       "      <td>45385</td>\n",
       "      <td>8.149503</td>\n",
       "      <td>20.168551</td>\n",
       "      <td>33.044452</td>\n",
       "      <td>11.580440</td>\n",
       "      <td>9.283619</td>\n",
       "      <td>17.773435</td>\n",
       "    </tr>\n",
       "    <tr>\n",
       "      <th>7</th>\n",
       "      <td>9000</td>\n",
       "      <td>באר שבע</td>\n",
       "      <td>62</td>\n",
       "      <td>באר שבע</td>\n",
       "      <td>62</td>\n",
       "      <td>באר שבע</td>\n",
       "      <td>0</td>\n",
       "      <td></td>\n",
       "      <td>223450</td>\n",
       "      <td>16627</td>\n",
       "      <td>...</td>\n",
       "      <td>78476</td>\n",
       "      <td>24961</td>\n",
       "      <td>21812</td>\n",
       "      <td>42302</td>\n",
       "      <td>7.441038</td>\n",
       "      <td>17.575296</td>\n",
       "      <td>35.120161</td>\n",
       "      <td>11.170732</td>\n",
       "      <td>9.761468</td>\n",
       "      <td>18.931305</td>\n",
       "    </tr>\n",
       "    <tr>\n",
       "      <th>8</th>\n",
       "      <td>6100</td>\n",
       "      <td>בני ברק</td>\n",
       "      <td>52</td>\n",
       "      <td>רמת גן</td>\n",
       "      <td>54</td>\n",
       "      <td>בני ברק</td>\n",
       "      <td>0</td>\n",
       "      <td></td>\n",
       "      <td>218949</td>\n",
       "      <td>36009</td>\n",
       "      <td>...</td>\n",
       "      <td>74104</td>\n",
       "      <td>13208</td>\n",
       "      <td>10109</td>\n",
       "      <td>18671</td>\n",
       "      <td>16.446296</td>\n",
       "      <td>30.531311</td>\n",
       "      <td>33.845325</td>\n",
       "      <td>6.032455</td>\n",
       "      <td>4.617057</td>\n",
       "      <td>8.527557</td>\n",
       "    </tr>\n",
       "    <tr>\n",
       "      <th>9</th>\n",
       "      <td>6600</td>\n",
       "      <td>חולון</td>\n",
       "      <td>53</td>\n",
       "      <td>חולון</td>\n",
       "      <td>53</td>\n",
       "      <td>חולון</td>\n",
       "      <td>0</td>\n",
       "      <td></td>\n",
       "      <td>212914</td>\n",
       "      <td>13947</td>\n",
       "      <td>...</td>\n",
       "      <td>67864</td>\n",
       "      <td>27045</td>\n",
       "      <td>20382</td>\n",
       "      <td>46878</td>\n",
       "      <td>6.550532</td>\n",
       "      <td>17.283034</td>\n",
       "      <td>31.873902</td>\n",
       "      <td>12.702312</td>\n",
       "      <td>9.572879</td>\n",
       "      <td>22.017340</td>\n",
       "    </tr>\n",
       "    <tr>\n",
       "      <th>10</th>\n",
       "      <td>8600</td>\n",
       "      <td>רמת גן</td>\n",
       "      <td>52</td>\n",
       "      <td>רמת גן</td>\n",
       "      <td>52</td>\n",
       "      <td>רמת גן</td>\n",
       "      <td>0</td>\n",
       "      <td></td>\n",
       "      <td>176098</td>\n",
       "      <td>11283</td>\n",
       "      <td>...</td>\n",
       "      <td>63891</td>\n",
       "      <td>22006</td>\n",
       "      <td>16646</td>\n",
       "      <td>37565</td>\n",
       "      <td>6.407228</td>\n",
       "      <td>14.030256</td>\n",
       "      <td>36.281502</td>\n",
       "      <td>12.496451</td>\n",
       "      <td>9.452691</td>\n",
       "      <td>21.331872</td>\n",
       "    </tr>\n",
       "    <tr>\n",
       "      <th>11</th>\n",
       "      <td>7100</td>\n",
       "      <td>אשקלון</td>\n",
       "      <td>61</td>\n",
       "      <td>אשקלון</td>\n",
       "      <td>61</td>\n",
       "      <td>אשקלון</td>\n",
       "      <td>0</td>\n",
       "      <td></td>\n",
       "      <td>162942</td>\n",
       "      <td>13047</td>\n",
       "      <td>...</td>\n",
       "      <td>56373</td>\n",
       "      <td>18099</td>\n",
       "      <td>15436</td>\n",
       "      <td>29943</td>\n",
       "      <td>8.007144</td>\n",
       "      <td>18.438463</td>\n",
       "      <td>34.596973</td>\n",
       "      <td>11.107633</td>\n",
       "      <td>9.473310</td>\n",
       "      <td>18.376478</td>\n",
       "    </tr>\n",
       "    <tr>\n",
       "      <th>12</th>\n",
       "      <td>8400</td>\n",
       "      <td>רחובות</td>\n",
       "      <td>44</td>\n",
       "      <td>רחובות</td>\n",
       "      <td>44</td>\n",
       "      <td>רחובות</td>\n",
       "      <td>0</td>\n",
       "      <td></td>\n",
       "      <td>158284</td>\n",
       "      <td>13740</td>\n",
       "      <td>...</td>\n",
       "      <td>52986</td>\n",
       "      <td>18336</td>\n",
       "      <td>12017</td>\n",
       "      <td>27740</td>\n",
       "      <td>8.680599</td>\n",
       "      <td>21.142377</td>\n",
       "      <td>33.475272</td>\n",
       "      <td>11.584241</td>\n",
       "      <td>7.592050</td>\n",
       "      <td>17.525461</td>\n",
       "    </tr>\n",
       "    <tr>\n",
       "      <th>13</th>\n",
       "      <td>6200</td>\n",
       "      <td>בת ים</td>\n",
       "      <td>53</td>\n",
       "      <td>חולון</td>\n",
       "      <td>53</td>\n",
       "      <td>חולון</td>\n",
       "      <td>0</td>\n",
       "      <td></td>\n",
       "      <td>155695</td>\n",
       "      <td>7691</td>\n",
       "      <td>...</td>\n",
       "      <td>47135</td>\n",
       "      <td>20630</td>\n",
       "      <td>17061</td>\n",
       "      <td>42825</td>\n",
       "      <td>4.939786</td>\n",
       "      <td>13.072353</td>\n",
       "      <td>30.273933</td>\n",
       "      <td>13.250265</td>\n",
       "      <td>10.957963</td>\n",
       "      <td>27.505700</td>\n",
       "    </tr>\n",
       "    <tr>\n",
       "      <th>14</th>\n",
       "      <td>2610</td>\n",
       "      <td>בית שמש</td>\n",
       "      <td>11</td>\n",
       "      <td>ירושלים</td>\n",
       "      <td>13</td>\n",
       "      <td>בית שמש</td>\n",
       "      <td>0</td>\n",
       "      <td></td>\n",
       "      <td>150795</td>\n",
       "      <td>25131</td>\n",
       "      <td>...</td>\n",
       "      <td>52703</td>\n",
       "      <td>9719</td>\n",
       "      <td>5704</td>\n",
       "      <td>7196</td>\n",
       "      <td>16.665672</td>\n",
       "      <td>33.384396</td>\n",
       "      <td>34.950098</td>\n",
       "      <td>6.445174</td>\n",
       "      <td>3.782619</td>\n",
       "      <td>4.772042</td>\n",
       "    </tr>\n",
       "    <tr>\n",
       "      <th>15</th>\n",
       "      <td>6400</td>\n",
       "      <td>הרצליה</td>\n",
       "      <td>51</td>\n",
       "      <td>תל אביב</td>\n",
       "      <td>57</td>\n",
       "      <td>הרצליה</td>\n",
       "      <td>0</td>\n",
       "      <td></td>\n",
       "      <td>116006</td>\n",
       "      <td>7599</td>\n",
       "      <td>...</td>\n",
       "      <td>37689</td>\n",
       "      <td>14921</td>\n",
       "      <td>10681</td>\n",
       "      <td>26178</td>\n",
       "      <td>6.550523</td>\n",
       "      <td>16.325018</td>\n",
       "      <td>32.488837</td>\n",
       "      <td>12.862266</td>\n",
       "      <td>9.207282</td>\n",
       "      <td>22.566074</td>\n",
       "    </tr>\n",
       "    <tr>\n",
       "      <th>16</th>\n",
       "      <td>6900</td>\n",
       "      <td>כפר סבא</td>\n",
       "      <td>42</td>\n",
       "      <td>פתח תקווה</td>\n",
       "      <td>47</td>\n",
       "      <td>כפר סבא</td>\n",
       "      <td>0</td>\n",
       "      <td></td>\n",
       "      <td>111051</td>\n",
       "      <td>7368</td>\n",
       "      <td>...</td>\n",
       "      <td>34483</td>\n",
       "      <td>14458</td>\n",
       "      <td>9545</td>\n",
       "      <td>24210</td>\n",
       "      <td>6.634789</td>\n",
       "      <td>18.898524</td>\n",
       "      <td>31.051499</td>\n",
       "      <td>13.019243</td>\n",
       "      <td>8.595150</td>\n",
       "      <td>21.800794</td>\n",
       "    </tr>\n",
       "    <tr>\n",
       "      <th>17</th>\n",
       "      <td>6500</td>\n",
       "      <td>חדרה</td>\n",
       "      <td>32</td>\n",
       "      <td>חדרה</td>\n",
       "      <td>32</td>\n",
       "      <td>חדרה</td>\n",
       "      <td>0</td>\n",
       "      <td></td>\n",
       "      <td>108271</td>\n",
       "      <td>8530</td>\n",
       "      <td>...</td>\n",
       "      <td>37076</td>\n",
       "      <td>12632</td>\n",
       "      <td>10298</td>\n",
       "      <td>19716</td>\n",
       "      <td>7.878379</td>\n",
       "      <td>18.489716</td>\n",
       "      <td>34.243703</td>\n",
       "      <td>11.667021</td>\n",
       "      <td>9.511319</td>\n",
       "      <td>18.209862</td>\n",
       "    </tr>\n",
       "    <tr>\n",
       "      <th>18</th>\n",
       "      <td>1200</td>\n",
       "      <td>מודיעין-מכבים-רעות</td>\n",
       "      <td>43</td>\n",
       "      <td>רמלה</td>\n",
       "      <td>43</td>\n",
       "      <td>רמלה</td>\n",
       "      <td>0</td>\n",
       "      <td></td>\n",
       "      <td>99640</td>\n",
       "      <td>6349</td>\n",
       "      <td>...</td>\n",
       "      <td>32919</td>\n",
       "      <td>15862</td>\n",
       "      <td>8508</td>\n",
       "      <td>10266</td>\n",
       "      <td>6.371939</td>\n",
       "      <td>25.828984</td>\n",
       "      <td>33.037937</td>\n",
       "      <td>15.919310</td>\n",
       "      <td>8.538739</td>\n",
       "      <td>10.303091</td>\n",
       "    </tr>\n",
       "    <tr>\n",
       "      <th>19</th>\n",
       "      <td>8700</td>\n",
       "      <td>רעננה</td>\n",
       "      <td>42</td>\n",
       "      <td>פתח תקווה</td>\n",
       "      <td>47</td>\n",
       "      <td>כפר סבא</td>\n",
       "      <td>0</td>\n",
       "      <td></td>\n",
       "      <td>93977</td>\n",
       "      <td>5905</td>\n",
       "      <td>...</td>\n",
       "      <td>29851</td>\n",
       "      <td>12511</td>\n",
       "      <td>8920</td>\n",
       "      <td>19313</td>\n",
       "      <td>6.283452</td>\n",
       "      <td>18.597104</td>\n",
       "      <td>31.764155</td>\n",
       "      <td>13.312832</td>\n",
       "      <td>9.491684</td>\n",
       "      <td>20.550773</td>\n",
       "    </tr>\n",
       "    <tr>\n",
       "      <th>20</th>\n",
       "      <td>7000</td>\n",
       "      <td>לוד</td>\n",
       "      <td>43</td>\n",
       "      <td>רמלה</td>\n",
       "      <td>43</td>\n",
       "      <td>רמלה</td>\n",
       "      <td>0</td>\n",
       "      <td></td>\n",
       "      <td>88645</td>\n",
       "      <td>9823</td>\n",
       "      <td>...</td>\n",
       "      <td>31038</td>\n",
       "      <td>8891</td>\n",
       "      <td>6687</td>\n",
       "      <td>12515</td>\n",
       "      <td>11.081279</td>\n",
       "      <td>22.213323</td>\n",
       "      <td>35.013819</td>\n",
       "      <td>10.029895</td>\n",
       "      <td>7.543573</td>\n",
       "      <td>14.118112</td>\n",
       "    </tr>\n",
       "    <tr>\n",
       "      <th>21</th>\n",
       "      <td>3797</td>\n",
       "      <td>מודיעין עילית</td>\n",
       "      <td>74</td>\n",
       "      <td>ראמאללה</td>\n",
       "      <td>11</td>\n",
       "      <td>ירושלים</td>\n",
       "      <td>0</td>\n",
       "      <td></td>\n",
       "      <td>83255</td>\n",
       "      <td>15886</td>\n",
       "      <td>...</td>\n",
       "      <td>26348</td>\n",
       "      <td>3878</td>\n",
       "      <td>996</td>\n",
       "      <td>972</td>\n",
       "      <td>19.081136</td>\n",
       "      <td>42.249715</td>\n",
       "      <td>31.647349</td>\n",
       "      <td>4.657978</td>\n",
       "      <td>1.196325</td>\n",
       "      <td>1.167497</td>\n",
       "    </tr>\n",
       "    <tr>\n",
       "      <th>22</th>\n",
       "      <td>8500</td>\n",
       "      <td>רמלה</td>\n",
       "      <td>43</td>\n",
       "      <td>רמלה</td>\n",
       "      <td>43</td>\n",
       "      <td>רמלה</td>\n",
       "      <td>0</td>\n",
       "      <td></td>\n",
       "      <td>83106</td>\n",
       "      <td>7692</td>\n",
       "      <td>...</td>\n",
       "      <td>30218</td>\n",
       "      <td>8803</td>\n",
       "      <td>7032</td>\n",
       "      <td>11816</td>\n",
       "      <td>9.255649</td>\n",
       "      <td>21.111592</td>\n",
       "      <td>36.360792</td>\n",
       "      <td>10.592496</td>\n",
       "      <td>8.461483</td>\n",
       "      <td>14.217987</td>\n",
       "    </tr>\n",
       "    <tr>\n",
       "      <th>23</th>\n",
       "      <td>7300</td>\n",
       "      <td>נצרת</td>\n",
       "      <td>25</td>\n",
       "      <td>נצרת</td>\n",
       "      <td>25</td>\n",
       "      <td>נוף הגליל</td>\n",
       "      <td>0</td>\n",
       "      <td></td>\n",
       "      <td>82563</td>\n",
       "      <td>6192</td>\n",
       "      <td>...</td>\n",
       "      <td>33669</td>\n",
       "      <td>9816</td>\n",
       "      <td>7392</td>\n",
       "      <td>8519</td>\n",
       "      <td>7.499727</td>\n",
       "      <td>20.560057</td>\n",
       "      <td>40.779768</td>\n",
       "      <td>11.889103</td>\n",
       "      <td>8.953163</td>\n",
       "      <td>10.318181</td>\n",
       "    </tr>\n",
       "    <tr>\n",
       "      <th>24</th>\n",
       "      <td>2640</td>\n",
       "      <td>ראש העין</td>\n",
       "      <td>42</td>\n",
       "      <td>פתח תקווה</td>\n",
       "      <td>42</td>\n",
       "      <td>פתח תקוה</td>\n",
       "      <td>0</td>\n",
       "      <td></td>\n",
       "      <td>72661</td>\n",
       "      <td>8971</td>\n",
       "      <td>...</td>\n",
       "      <td>27913</td>\n",
       "      <td>7247</td>\n",
       "      <td>6348</td>\n",
       "      <td>7005</td>\n",
       "      <td>12.346376</td>\n",
       "      <td>20.887409</td>\n",
       "      <td>38.415381</td>\n",
       "      <td>9.973714</td>\n",
       "      <td>8.736461</td>\n",
       "      <td>9.640660</td>\n",
       "    </tr>\n",
       "    <tr>\n",
       "      <th>25</th>\n",
       "      <td>1161</td>\n",
       "      <td>רהט</td>\n",
       "      <td>62</td>\n",
       "      <td>באר שבע</td>\n",
       "      <td>62</td>\n",
       "      <td>באר שבע</td>\n",
       "      <td>0</td>\n",
       "      <td></td>\n",
       "      <td>71998</td>\n",
       "      <td>11368</td>\n",
       "      <td>...</td>\n",
       "      <td>28674</td>\n",
       "      <td>4850</td>\n",
       "      <td>2071</td>\n",
       "      <td>1795</td>\n",
       "      <td>15.789327</td>\n",
       "      <td>32.278674</td>\n",
       "      <td>39.826106</td>\n",
       "      <td>6.736298</td>\n",
       "      <td>2.876469</td>\n",
       "      <td>2.493125</td>\n",
       "    </tr>\n",
       "    <tr>\n",
       "      <th>26</th>\n",
       "      <td>9100</td>\n",
       "      <td>נהריה</td>\n",
       "      <td>24</td>\n",
       "      <td>עכו</td>\n",
       "      <td>24</td>\n",
       "      <td>עכו</td>\n",
       "      <td>0</td>\n",
       "      <td></td>\n",
       "      <td>70201</td>\n",
       "      <td>4379</td>\n",
       "      <td>...</td>\n",
       "      <td>23077</td>\n",
       "      <td>9410</td>\n",
       "      <td>7126</td>\n",
       "      <td>14461</td>\n",
       "      <td>6.237803</td>\n",
       "      <td>16.734804</td>\n",
       "      <td>32.872751</td>\n",
       "      <td>13.404367</td>\n",
       "      <td>10.150853</td>\n",
       "      <td>20.599422</td>\n",
       "    </tr>\n",
       "    <tr>\n",
       "      <th>27</th>\n",
       "      <td>2600</td>\n",
       "      <td>אילת</td>\n",
       "      <td>62</td>\n",
       "      <td>באר שבע</td>\n",
       "      <td>63</td>\n",
       "      <td>אילת</td>\n",
       "      <td>0</td>\n",
       "      <td></td>\n",
       "      <td>68283</td>\n",
       "      <td>3987</td>\n",
       "      <td>...</td>\n",
       "      <td>26724</td>\n",
       "      <td>9737</td>\n",
       "      <td>7240</td>\n",
       "      <td>9989</td>\n",
       "      <td>5.838935</td>\n",
       "      <td>15.532417</td>\n",
       "      <td>39.137121</td>\n",
       "      <td>14.259772</td>\n",
       "      <td>10.602932</td>\n",
       "      <td>14.628824</td>\n",
       "    </tr>\n",
       "    <tr>\n",
       "      <th>28</th>\n",
       "      <td>9700</td>\n",
       "      <td>הוד השרון</td>\n",
       "      <td>42</td>\n",
       "      <td>פתח תקווה</td>\n",
       "      <td>47</td>\n",
       "      <td>כפר סבא</td>\n",
       "      <td>0</td>\n",
       "      <td></td>\n",
       "      <td>68191</td>\n",
       "      <td>4993</td>\n",
       "      <td>...</td>\n",
       "      <td>21814</td>\n",
       "      <td>9827</td>\n",
       "      <td>6093</td>\n",
       "      <td>10855</td>\n",
       "      <td>7.322081</td>\n",
       "      <td>21.423648</td>\n",
       "      <td>31.989559</td>\n",
       "      <td>14.410993</td>\n",
       "      <td>8.935197</td>\n",
       "      <td>15.918523</td>\n",
       "    </tr>\n",
       "    <tr>\n",
       "      <th>29</th>\n",
       "      <td>3780</td>\n",
       "      <td>ביתר עילית</td>\n",
       "      <td>76</td>\n",
       "      <td>בית לחם</td>\n",
       "      <td>11</td>\n",
       "      <td>ירושלים</td>\n",
       "      <td>0</td>\n",
       "      <td></td>\n",
       "      <td>66713</td>\n",
       "      <td>12185</td>\n",
       "      <td>...</td>\n",
       "      <td>22846</td>\n",
       "      <td>3660</td>\n",
       "      <td>1325</td>\n",
       "      <td>953</td>\n",
       "      <td>18.264806</td>\n",
       "      <td>38.589181</td>\n",
       "      <td>34.245200</td>\n",
       "      <td>5.486187</td>\n",
       "      <td>1.986120</td>\n",
       "      <td>1.428507</td>\n",
       "    </tr>\n",
       "    <tr>\n",
       "      <th>30</th>\n",
       "      <td>2630</td>\n",
       "      <td>קרית גת</td>\n",
       "      <td>61</td>\n",
       "      <td>אשקלון</td>\n",
       "      <td>61</td>\n",
       "      <td>אשקלון</td>\n",
       "      <td>0</td>\n",
       "      <td></td>\n",
       "      <td>66505</td>\n",
       "      <td>7366</td>\n",
       "      <td>...</td>\n",
       "      <td>23812</td>\n",
       "      <td>6015</td>\n",
       "      <td>5723</td>\n",
       "      <td>9735</td>\n",
       "      <td>11.075859</td>\n",
       "      <td>20.831516</td>\n",
       "      <td>35.804827</td>\n",
       "      <td>9.044433</td>\n",
       "      <td>8.605368</td>\n",
       "      <td>14.637997</td>\n",
       "    </tr>\n",
       "    <tr>\n",
       "      <th>31</th>\n",
       "      <td>6800</td>\n",
       "      <td>קרית אתא</td>\n",
       "      <td>31</td>\n",
       "      <td>חיפה</td>\n",
       "      <td>31</td>\n",
       "      <td>חיפה</td>\n",
       "      <td>0</td>\n",
       "      <td></td>\n",
       "      <td>64746</td>\n",
       "      <td>4890</td>\n",
       "      <td>...</td>\n",
       "      <td>21913</td>\n",
       "      <td>7496</td>\n",
       "      <td>6485</td>\n",
       "      <td>12612</td>\n",
       "      <td>7.552590</td>\n",
       "      <td>17.530040</td>\n",
       "      <td>33.844562</td>\n",
       "      <td>11.577549</td>\n",
       "      <td>10.016063</td>\n",
       "      <td>19.479196</td>\n",
       "    </tr>\n",
       "    <tr>\n",
       "      <th>32</th>\n",
       "      <td>6300</td>\n",
       "      <td>גבעתיים</td>\n",
       "      <td>52</td>\n",
       "      <td>רמת גן</td>\n",
       "      <td>52</td>\n",
       "      <td>רמת גן</td>\n",
       "      <td>0</td>\n",
       "      <td></td>\n",
       "      <td>63866</td>\n",
       "      <td>4536</td>\n",
       "      <td>...</td>\n",
       "      <td>23273</td>\n",
       "      <td>8121</td>\n",
       "      <td>5330</td>\n",
       "      <td>12877</td>\n",
       "      <td>7.102371</td>\n",
       "      <td>15.233458</td>\n",
       "      <td>36.440360</td>\n",
       "      <td>12.715686</td>\n",
       "      <td>8.345599</td>\n",
       "      <td>20.162528</td>\n",
       "    </tr>\n",
       "    <tr>\n",
       "      <th>33</th>\n",
       "      <td>7700</td>\n",
       "      <td>עפולה</td>\n",
       "      <td>23</td>\n",
       "      <td>עפולה</td>\n",
       "      <td>23</td>\n",
       "      <td>עפולה</td>\n",
       "      <td>0</td>\n",
       "      <td></td>\n",
       "      <td>63295</td>\n",
       "      <td>6559</td>\n",
       "      <td>...</td>\n",
       "      <td>22459</td>\n",
       "      <td>6519</td>\n",
       "      <td>5600</td>\n",
       "      <td>10622</td>\n",
       "      <td>10.362588</td>\n",
       "      <td>18.225768</td>\n",
       "      <td>35.483056</td>\n",
       "      <td>10.299392</td>\n",
       "      <td>8.847460</td>\n",
       "      <td>16.781736</td>\n",
       "    </tr>\n",
       "    <tr>\n",
       "      <th>34</th>\n",
       "      <td>2710</td>\n",
       "      <td>אום אל-פחם</td>\n",
       "      <td>32</td>\n",
       "      <td>חדרה</td>\n",
       "      <td>23</td>\n",
       "      <td>עפולה</td>\n",
       "      <td>0</td>\n",
       "      <td></td>\n",
       "      <td>58273</td>\n",
       "      <td>5672</td>\n",
       "      <td>...</td>\n",
       "      <td>24384</td>\n",
       "      <td>6386</td>\n",
       "      <td>3935</td>\n",
       "      <td>2989</td>\n",
       "      <td>9.733496</td>\n",
       "      <td>25.581316</td>\n",
       "      <td>41.844422</td>\n",
       "      <td>10.958763</td>\n",
       "      <td>6.752699</td>\n",
       "      <td>5.129305</td>\n",
       "    </tr>\n",
       "    <tr>\n",
       "      <th>35</th>\n",
       "      <td>7600</td>\n",
       "      <td>עכו</td>\n",
       "      <td>24</td>\n",
       "      <td>עכו</td>\n",
       "      <td>24</td>\n",
       "      <td>עכו</td>\n",
       "      <td>0</td>\n",
       "      <td></td>\n",
       "      <td>57108</td>\n",
       "      <td>3978</td>\n",
       "      <td>...</td>\n",
       "      <td>20628</td>\n",
       "      <td>6493</td>\n",
       "      <td>5814</td>\n",
       "      <td>9946</td>\n",
       "      <td>6.965749</td>\n",
       "      <td>17.946697</td>\n",
       "      <td>36.121034</td>\n",
       "      <td>11.369686</td>\n",
       "      <td>10.180710</td>\n",
       "      <td>17.416124</td>\n",
       "    </tr>\n",
       "    <tr>\n",
       "      <th>36</th>\n",
       "      <td>2660</td>\n",
       "      <td>יבנה</td>\n",
       "      <td>44</td>\n",
       "      <td>רחובות</td>\n",
       "      <td>44</td>\n",
       "      <td>רחובות</td>\n",
       "      <td>0</td>\n",
       "      <td></td>\n",
       "      <td>55685</td>\n",
       "      <td>6174</td>\n",
       "      <td>...</td>\n",
       "      <td>20273</td>\n",
       "      <td>5445</td>\n",
       "      <td>4027</td>\n",
       "      <td>7170</td>\n",
       "      <td>11.087366</td>\n",
       "      <td>22.620095</td>\n",
       "      <td>36.406573</td>\n",
       "      <td>9.778217</td>\n",
       "      <td>7.231750</td>\n",
       "      <td>12.875999</td>\n",
       "    </tr>\n",
       "    <tr>\n",
       "      <th>37</th>\n",
       "      <td>1139</td>\n",
       "      <td>כרמיאל</td>\n",
       "      <td>24</td>\n",
       "      <td>עכו</td>\n",
       "      <td>20</td>\n",
       "      <td>כרמיאל</td>\n",
       "      <td>0</td>\n",
       "      <td></td>\n",
       "      <td>53953</td>\n",
       "      <td>3160</td>\n",
       "      <td>...</td>\n",
       "      <td>17617</td>\n",
       "      <td>6853</td>\n",
       "      <td>5503</td>\n",
       "      <td>12007</td>\n",
       "      <td>5.856950</td>\n",
       "      <td>16.334588</td>\n",
       "      <td>32.652494</td>\n",
       "      <td>12.701796</td>\n",
       "      <td>10.199618</td>\n",
       "      <td>22.254555</td>\n",
       "    </tr>\n",
       "    <tr>\n",
       "      <th>38</th>\n",
       "      <td>8200</td>\n",
       "      <td>קרית מוצקין</td>\n",
       "      <td>31</td>\n",
       "      <td>חיפה</td>\n",
       "      <td>31</td>\n",
       "      <td>חיפה</td>\n",
       "      <td>0</td>\n",
       "      <td></td>\n",
       "      <td>52558</td>\n",
       "      <td>3754</td>\n",
       "      <td>...</td>\n",
       "      <td>17273</td>\n",
       "      <td>6191</td>\n",
       "      <td>4811</td>\n",
       "      <td>12329</td>\n",
       "      <td>7.142585</td>\n",
       "      <td>15.601811</td>\n",
       "      <td>32.864645</td>\n",
       "      <td>11.779368</td>\n",
       "      <td>9.153697</td>\n",
       "      <td>23.457894</td>\n",
       "    </tr>\n",
       "    <tr>\n",
       "      <th>39</th>\n",
       "      <td>2650</td>\n",
       "      <td>רמת השרון</td>\n",
       "      <td>51</td>\n",
       "      <td>תל אביב</td>\n",
       "      <td>57</td>\n",
       "      <td>הרצליה</td>\n",
       "      <td>0</td>\n",
       "      <td></td>\n",
       "      <td>52356</td>\n",
       "      <td>3182</td>\n",
       "      <td>...</td>\n",
       "      <td>14340</td>\n",
       "      <td>7876</td>\n",
       "      <td>4674</td>\n",
       "      <td>11632</td>\n",
       "      <td>6.077622</td>\n",
       "      <td>20.345328</td>\n",
       "      <td>27.389411</td>\n",
       "      <td>15.043166</td>\n",
       "      <td>8.927344</td>\n",
       "      <td>22.217129</td>\n",
       "    </tr>\n",
       "    <tr>\n",
       "      <th>40</th>\n",
       "      <td>1061</td>\n",
       "      <td>נוף הגליל</td>\n",
       "      <td>25</td>\n",
       "      <td>נצרת</td>\n",
       "      <td>25</td>\n",
       "      <td>נוף הגליל</td>\n",
       "      <td>0</td>\n",
       "      <td></td>\n",
       "      <td>52254</td>\n",
       "      <td>3479</td>\n",
       "      <td>...</td>\n",
       "      <td>17589</td>\n",
       "      <td>6404</td>\n",
       "      <td>5391</td>\n",
       "      <td>11392</td>\n",
       "      <td>6.657864</td>\n",
       "      <td>15.307919</td>\n",
       "      <td>33.660581</td>\n",
       "      <td>12.255521</td>\n",
       "      <td>10.316914</td>\n",
       "      <td>21.801202</td>\n",
       "    </tr>\n",
       "    <tr>\n",
       "      <th>41</th>\n",
       "      <td>6700</td>\n",
       "      <td>טבריה</td>\n",
       "      <td>22</td>\n",
       "      <td>כנרת</td>\n",
       "      <td>22</td>\n",
       "      <td>טבריה</td>\n",
       "      <td>0</td>\n",
       "      <td></td>\n",
       "      <td>51572</td>\n",
       "      <td>5432</td>\n",
       "      <td>...</td>\n",
       "      <td>18048</td>\n",
       "      <td>5380</td>\n",
       "      <td>4752</td>\n",
       "      <td>8162</td>\n",
       "      <td>10.532847</td>\n",
       "      <td>18.998681</td>\n",
       "      <td>34.995734</td>\n",
       "      <td>10.432017</td>\n",
       "      <td>9.214302</td>\n",
       "      <td>15.826417</td>\n",
       "    </tr>\n",
       "    <tr>\n",
       "      <th>42</th>\n",
       "      <td>7200</td>\n",
       "      <td>נס ציונה</td>\n",
       "      <td>44</td>\n",
       "      <td>רחובות</td>\n",
       "      <td>44</td>\n",
       "      <td>רחובות</td>\n",
       "      <td>0</td>\n",
       "      <td></td>\n",
       "      <td>49640</td>\n",
       "      <td>3211</td>\n",
       "      <td>...</td>\n",
       "      <td>15524</td>\n",
       "      <td>7617</td>\n",
       "      <td>3899</td>\n",
       "      <td>7476</td>\n",
       "      <td>6.468574</td>\n",
       "      <td>23.998791</td>\n",
       "      <td>31.273167</td>\n",
       "      <td>15.344480</td>\n",
       "      <td>7.854553</td>\n",
       "      <td>15.060435</td>\n",
       "    </tr>\n",
       "    <tr>\n",
       "      <th>43</th>\n",
       "      <td>1309</td>\n",
       "      <td>אלעד</td>\n",
       "      <td>42</td>\n",
       "      <td>פתח תקווה</td>\n",
       "      <td>42</td>\n",
       "      <td>פתח תקוה</td>\n",
       "      <td>0</td>\n",
       "      <td></td>\n",
       "      <td>49169</td>\n",
       "      <td>6799</td>\n",
       "      <td>...</td>\n",
       "      <td>17144</td>\n",
       "      <td>3247</td>\n",
       "      <td>1215</td>\n",
       "      <td>1065</td>\n",
       "      <td>13.827818</td>\n",
       "      <td>40.063861</td>\n",
       "      <td>34.867498</td>\n",
       "      <td>6.603754</td>\n",
       "      <td>2.471069</td>\n",
       "      <td>2.165999</td>\n",
       "    </tr>\n",
       "    <tr>\n",
       "      <th>44</th>\n",
       "      <td>9500</td>\n",
       "      <td>קרית ביאליק</td>\n",
       "      <td>31</td>\n",
       "      <td>חיפה</td>\n",
       "      <td>31</td>\n",
       "      <td>חיפה</td>\n",
       "      <td>0</td>\n",
       "      <td></td>\n",
       "      <td>47629</td>\n",
       "      <td>3250</td>\n",
       "      <td>...</td>\n",
       "      <td>15822</td>\n",
       "      <td>5642</td>\n",
       "      <td>4442</td>\n",
       "      <td>10749</td>\n",
       "      <td>6.823574</td>\n",
       "      <td>16.217011</td>\n",
       "      <td>33.219257</td>\n",
       "      <td>11.845724</td>\n",
       "      <td>9.326251</td>\n",
       "      <td>22.568183</td>\n",
       "    </tr>\n",
       "    <tr>\n",
       "      <th>45</th>\n",
       "      <td>7800</td>\n",
       "      <td>פרדס חנה-כרכור</td>\n",
       "      <td>32</td>\n",
       "      <td>חדרה</td>\n",
       "      <td>32</td>\n",
       "      <td>חדרה</td>\n",
       "      <td>0</td>\n",
       "      <td></td>\n",
       "      <td>46256</td>\n",
       "      <td>3736</td>\n",
       "      <td>...</td>\n",
       "      <td>15017</td>\n",
       "      <td>6331</td>\n",
       "      <td>3912</td>\n",
       "      <td>6459</td>\n",
       "      <td>8.076790</td>\n",
       "      <td>23.350484</td>\n",
       "      <td>32.464978</td>\n",
       "      <td>13.686873</td>\n",
       "      <td>8.457281</td>\n",
       "      <td>13.963594</td>\n",
       "    </tr>\n",
       "    <tr>\n",
       "      <th>46</th>\n",
       "      <td>2730</td>\n",
       "      <td>טייבה</td>\n",
       "      <td>41</td>\n",
       "      <td>השרון</td>\n",
       "      <td>41</td>\n",
       "      <td>נתניה</td>\n",
       "      <td>0</td>\n",
       "      <td></td>\n",
       "      <td>46119</td>\n",
       "      <td>4139</td>\n",
       "      <td>...</td>\n",
       "      <td>18820</td>\n",
       "      <td>5117</td>\n",
       "      <td>3515</td>\n",
       "      <td>3004</td>\n",
       "      <td>8.974609</td>\n",
       "      <td>24.987532</td>\n",
       "      <td>40.807476</td>\n",
       "      <td>11.095210</td>\n",
       "      <td>7.621588</td>\n",
       "      <td>6.513584</td>\n",
       "    </tr>\n",
       "    <tr>\n",
       "      <th>47</th>\n",
       "      <td>9600</td>\n",
       "      <td>קרית ים</td>\n",
       "      <td>31</td>\n",
       "      <td>חיפה</td>\n",
       "      <td>31</td>\n",
       "      <td>חיפה</td>\n",
       "      <td>0</td>\n",
       "      <td></td>\n",
       "      <td>45429</td>\n",
       "      <td>2113</td>\n",
       "      <td>...</td>\n",
       "      <td>13969</td>\n",
       "      <td>5580</td>\n",
       "      <td>5099</td>\n",
       "      <td>12400</td>\n",
       "      <td>4.651214</td>\n",
       "      <td>13.797354</td>\n",
       "      <td>30.749081</td>\n",
       "      <td>12.282903</td>\n",
       "      <td>11.224108</td>\n",
       "      <td>27.295340</td>\n",
       "    </tr>\n",
       "    <tr>\n",
       "      <th>48</th>\n",
       "      <td>246</td>\n",
       "      <td>נתיבות</td>\n",
       "      <td>62</td>\n",
       "      <td>באר שבע</td>\n",
       "      <td>62</td>\n",
       "      <td>באר שבע</td>\n",
       "      <td>0</td>\n",
       "      <td></td>\n",
       "      <td>44654</td>\n",
       "      <td>6250</td>\n",
       "      <td>...</td>\n",
       "      <td>17089</td>\n",
       "      <td>3570</td>\n",
       "      <td>2583</td>\n",
       "      <td>3251</td>\n",
       "      <td>13.996506</td>\n",
       "      <td>26.673982</td>\n",
       "      <td>38.269808</td>\n",
       "      <td>7.994804</td>\n",
       "      <td>5.784476</td>\n",
       "      <td>7.280423</td>\n",
       "    </tr>\n",
       "    <tr>\n",
       "      <th>49</th>\n",
       "      <td>2620</td>\n",
       "      <td>קרית אונו</td>\n",
       "      <td>52</td>\n",
       "      <td>רמת גן</td>\n",
       "      <td>52</td>\n",
       "      <td>רמת גן</td>\n",
       "      <td>0</td>\n",
       "      <td></td>\n",
       "      <td>43091</td>\n",
       "      <td>2833</td>\n",
       "      <td>...</td>\n",
       "      <td>12805</td>\n",
       "      <td>6421</td>\n",
       "      <td>3454</td>\n",
       "      <td>7857</td>\n",
       "      <td>6.574459</td>\n",
       "      <td>22.559235</td>\n",
       "      <td>29.716182</td>\n",
       "      <td>14.901023</td>\n",
       "      <td>8.015595</td>\n",
       "      <td>18.233506</td>\n",
       "    </tr>\n",
       "  </tbody>\n",
       "</table>\n",
       "<p>50 rows × 21 columns</p>\n",
       "</div>"
      ],
      "text/plain": [
       "    סמל_ישוב             שם_ישוב סמל_נפה         נפה קוד_לשכת_מנא  \\\n",
       "0       3000             ירושלים     11     ירושלים           11    \n",
       "1       5000       תל אביב - יפו     51     תל אביב           51    \n",
       "2       4000                חיפה     31        חיפה           31    \n",
       "3       7900           פתח תקווה     42   פתח תקווה           42    \n",
       "4       8300         ראשון לציון     44      רחובות           46    \n",
       "5       7400               נתניה     41       השרון           41    \n",
       "6         70               אשדוד     61      אשקלון           69    \n",
       "7       9000             באר שבע     62     באר שבע           62    \n",
       "8       6100             בני ברק     52      רמת גן           54    \n",
       "9       6600               חולון     53       חולון           53    \n",
       "10      8600              רמת גן     52      רמת גן           52    \n",
       "11      7100              אשקלון     61      אשקלון           61    \n",
       "12      8400              רחובות     44      רחובות           44    \n",
       "13      6200               בת ים     53       חולון           53    \n",
       "14      2610             בית שמש     11     ירושלים           13    \n",
       "15      6400              הרצליה     51     תל אביב           57    \n",
       "16      6900             כפר סבא     42   פתח תקווה           47    \n",
       "17      6500                חדרה     32        חדרה           32    \n",
       "18      1200  מודיעין-מכבים-רעות     43        רמלה           43    \n",
       "19      8700               רעננה     42   פתח תקווה           47    \n",
       "20      7000                 לוד     43        רמלה           43    \n",
       "21      3797       מודיעין עילית     74     ראמאללה           11    \n",
       "22      8500                רמלה     43        רמלה           43    \n",
       "23      7300                נצרת     25        נצרת           25    \n",
       "24      2640            ראש העין     42   פתח תקווה           42    \n",
       "25      1161                 רהט     62     באר שבע           62    \n",
       "26      9100               נהריה     24         עכו           24    \n",
       "27      2600                אילת     62     באר שבע           63    \n",
       "28      9700           הוד השרון     42   פתח תקווה           47    \n",
       "29      3780          ביתר עילית     76     בית לחם           11    \n",
       "30      2630             קרית גת     61      אשקלון           61    \n",
       "31      6800            קרית אתא     31        חיפה           31    \n",
       "32      6300             גבעתיים     52      רמת גן           52    \n",
       "33      7700               עפולה     23       עפולה           23    \n",
       "34      2710          אום אל-פחם     32        חדרה           23    \n",
       "35      7600                 עכו     24         עכו           24    \n",
       "36      2660                יבנה     44      רחובות           44    \n",
       "37      1139              כרמיאל     24         עכו           20    \n",
       "38      8200         קרית מוצקין     31        חיפה           31    \n",
       "39      2650           רמת השרון     51     תל אביב           57    \n",
       "40      1061           נוף הגליל     25        נצרת           25    \n",
       "41      6700               טבריה     22        כנרת           22    \n",
       "42      7200            נס ציונה     44      רחובות           44    \n",
       "43      1309                אלעד     42   פתח תקווה           42    \n",
       "44      9500         קרית ביאליק     31        חיפה           31    \n",
       "45      7800      פרדס חנה-כרכור     32        חדרה           32    \n",
       "46      2730               טייבה     41       השרון           41    \n",
       "47      9600             קרית ים     31        חיפה           31    \n",
       "48       246              נתיבות     62     באר שבע           62    \n",
       "49      2620           קרית אונו     52      רמת גן           52    \n",
       "\n",
       "        לשכת_מנא קוד_מועצה_אזורית מועצה_אזורית      סהכ  גיל_0_5  ...  \\\n",
       "0       ירושלים                0                1042259   118840  ...   \n",
       "1    ת\"א - מרכז                0                 565977    34499  ...   \n",
       "2          חיפה                0                 324291    19116  ...   \n",
       "3      פתח תקוה                0                 275734    21266  ...   \n",
       "4   ראשון לציון                0                 274391    17871  ...   \n",
       "5         נתניה                0                 259079    18399  ...   \n",
       "6         אשדוד                0                 255353    20810  ...   \n",
       "7       באר שבע                0                 223450    16627  ...   \n",
       "8       בני ברק                0                 218949    36009  ...   \n",
       "9         חולון                0                 212914    13947  ...   \n",
       "10       רמת גן                0                 176098    11283  ...   \n",
       "11       אשקלון                0                 162942    13047  ...   \n",
       "12       רחובות                0                 158284    13740  ...   \n",
       "13        חולון                0                 155695     7691  ...   \n",
       "14      בית שמש                0                 150795    25131  ...   \n",
       "15       הרצליה                0                 116006     7599  ...   \n",
       "16      כפר סבא                0                 111051     7368  ...   \n",
       "17         חדרה                0                 108271     8530  ...   \n",
       "18         רמלה                0                  99640     6349  ...   \n",
       "19      כפר סבא                0                  93977     5905  ...   \n",
       "20         רמלה                0                  88645     9823  ...   \n",
       "21      ירושלים                0                  83255    15886  ...   \n",
       "22         רמלה                0                  83106     7692  ...   \n",
       "23    נוף הגליל                0                  82563     6192  ...   \n",
       "24     פתח תקוה                0                  72661     8971  ...   \n",
       "25      באר שבע                0                  71998    11368  ...   \n",
       "26          עכו                0                  70201     4379  ...   \n",
       "27         אילת                0                  68283     3987  ...   \n",
       "28      כפר סבא                0                  68191     4993  ...   \n",
       "29      ירושלים                0                  66713    12185  ...   \n",
       "30       אשקלון                0                  66505     7366  ...   \n",
       "31         חיפה                0                  64746     4890  ...   \n",
       "32       רמת גן                0                  63866     4536  ...   \n",
       "33        עפולה                0                  63295     6559  ...   \n",
       "34        עפולה                0                  58273     5672  ...   \n",
       "35          עכו                0                  57108     3978  ...   \n",
       "36       רחובות                0                  55685     6174  ...   \n",
       "37       כרמיאל                0                  53953     3160  ...   \n",
       "38         חיפה                0                  52558     3754  ...   \n",
       "39       הרצליה                0                  52356     3182  ...   \n",
       "40    נוף הגליל                0                  52254     3479  ...   \n",
       "41        טבריה                0                  51572     5432  ...   \n",
       "42       רחובות                0                  49640     3211  ...   \n",
       "43     פתח תקוה                0                  49169     6799  ...   \n",
       "44         חיפה                0                  47629     3250  ...   \n",
       "45         חדרה                0                  46256     3736  ...   \n",
       "46        נתניה                0                  46119     4139  ...   \n",
       "47         חיפה                0                  45429     2113  ...   \n",
       "48      באר שבע                0                  44654     6250  ...   \n",
       "49       רמת גן                0                  43091     2833  ...   \n",
       "\n",
       "    גיל_19_45  גיל_46_55  גיל_56_64  גיל_65_פלוס        0_5       6_18  \\\n",
       "0      375666      91177      70618       122727  11.402156  25.255815   \n",
       "1      224640      69317      49986       115227   6.095477  12.775784   \n",
       "2      105041      39340      32661        79352   5.894706  15.042354   \n",
       "3       91022      35069      22655        50181   7.712506  20.142964   \n",
       "4       94509      35195      27306        55310   6.512969  16.108400   \n",
       "5       83621      30000      24122        56860   7.101695  17.784923   \n",
       "6       84380      29571      23706        45385   8.149503  20.168551   \n",
       "7       78476      24961      21812        42302   7.441038  17.575296   \n",
       "8       74104      13208      10109        18671  16.446296  30.531311   \n",
       "9       67864      27045      20382        46878   6.550532  17.283034   \n",
       "10      63891      22006      16646        37565   6.407228  14.030256   \n",
       "11      56373      18099      15436        29943   8.007144  18.438463   \n",
       "12      52986      18336      12017        27740   8.680599  21.142377   \n",
       "13      47135      20630      17061        42825   4.939786  13.072353   \n",
       "14      52703       9719       5704         7196  16.665672  33.384396   \n",
       "15      37689      14921      10681        26178   6.550523  16.325018   \n",
       "16      34483      14458       9545        24210   6.634789  18.898524   \n",
       "17      37076      12632      10298        19716   7.878379  18.489716   \n",
       "18      32919      15862       8508        10266   6.371939  25.828984   \n",
       "19      29851      12511       8920        19313   6.283452  18.597104   \n",
       "20      31038       8891       6687        12515  11.081279  22.213323   \n",
       "21      26348       3878        996          972  19.081136  42.249715   \n",
       "22      30218       8803       7032        11816   9.255649  21.111592   \n",
       "23      33669       9816       7392         8519   7.499727  20.560057   \n",
       "24      27913       7247       6348         7005  12.346376  20.887409   \n",
       "25      28674       4850       2071         1795  15.789327  32.278674   \n",
       "26      23077       9410       7126        14461   6.237803  16.734804   \n",
       "27      26724       9737       7240         9989   5.838935  15.532417   \n",
       "28      21814       9827       6093        10855   7.322081  21.423648   \n",
       "29      22846       3660       1325          953  18.264806  38.589181   \n",
       "30      23812       6015       5723         9735  11.075859  20.831516   \n",
       "31      21913       7496       6485        12612   7.552590  17.530040   \n",
       "32      23273       8121       5330        12877   7.102371  15.233458   \n",
       "33      22459       6519       5600        10622  10.362588  18.225768   \n",
       "34      24384       6386       3935         2989   9.733496  25.581316   \n",
       "35      20628       6493       5814         9946   6.965749  17.946697   \n",
       "36      20273       5445       4027         7170  11.087366  22.620095   \n",
       "37      17617       6853       5503        12007   5.856950  16.334588   \n",
       "38      17273       6191       4811        12329   7.142585  15.601811   \n",
       "39      14340       7876       4674        11632   6.077622  20.345328   \n",
       "40      17589       6404       5391        11392   6.657864  15.307919   \n",
       "41      18048       5380       4752         8162  10.532847  18.998681   \n",
       "42      15524       7617       3899         7476   6.468574  23.998791   \n",
       "43      17144       3247       1215         1065  13.827818  40.063861   \n",
       "44      15822       5642       4442        10749   6.823574  16.217011   \n",
       "45      15017       6331       3912         6459   8.076790  23.350484   \n",
       "46      18820       5117       3515         3004   8.974609  24.987532   \n",
       "47      13969       5580       5099        12400   4.651214  13.797354   \n",
       "48      17089       3570       2583         3251  13.996506  26.673982   \n",
       "49      12805       6421       3454         7857   6.574459  22.559235   \n",
       "\n",
       "        19_45      46_55      56_64        65_  \n",
       "0   36.043440   8.748018   6.775475  11.775096  \n",
       "1   39.690659  12.247317   8.831808  20.358955  \n",
       "2   32.390970  12.131080  10.071510  24.469381  \n",
       "3   33.010800  12.718417   8.216252  18.199061  \n",
       "4   34.443185  12.826587   9.951493  20.157367  \n",
       "5   32.276256  11.579480   9.310674  21.946974  \n",
       "6   33.044452  11.580440   9.283619  17.773435  \n",
       "7   35.120161  11.170732   9.761468  18.931305  \n",
       "8   33.845325   6.032455   4.617057   8.527557  \n",
       "9   31.873902  12.702312   9.572879  22.017340  \n",
       "10  36.281502  12.496451   9.452691  21.331872  \n",
       "11  34.596973  11.107633   9.473310  18.376478  \n",
       "12  33.475272  11.584241   7.592050  17.525461  \n",
       "13  30.273933  13.250265  10.957963  27.505700  \n",
       "14  34.950098   6.445174   3.782619   4.772042  \n",
       "15  32.488837  12.862266   9.207282  22.566074  \n",
       "16  31.051499  13.019243   8.595150  21.800794  \n",
       "17  34.243703  11.667021   9.511319  18.209862  \n",
       "18  33.037937  15.919310   8.538739  10.303091  \n",
       "19  31.764155  13.312832   9.491684  20.550773  \n",
       "20  35.013819  10.029895   7.543573  14.118112  \n",
       "21  31.647349   4.657978   1.196325   1.167497  \n",
       "22  36.360792  10.592496   8.461483  14.217987  \n",
       "23  40.779768  11.889103   8.953163  10.318181  \n",
       "24  38.415381   9.973714   8.736461   9.640660  \n",
       "25  39.826106   6.736298   2.876469   2.493125  \n",
       "26  32.872751  13.404367  10.150853  20.599422  \n",
       "27  39.137121  14.259772  10.602932  14.628824  \n",
       "28  31.989559  14.410993   8.935197  15.918523  \n",
       "29  34.245200   5.486187   1.986120   1.428507  \n",
       "30  35.804827   9.044433   8.605368  14.637997  \n",
       "31  33.844562  11.577549  10.016063  19.479196  \n",
       "32  36.440360  12.715686   8.345599  20.162528  \n",
       "33  35.483056  10.299392   8.847460  16.781736  \n",
       "34  41.844422  10.958763   6.752699   5.129305  \n",
       "35  36.121034  11.369686  10.180710  17.416124  \n",
       "36  36.406573   9.778217   7.231750  12.875999  \n",
       "37  32.652494  12.701796  10.199618  22.254555  \n",
       "38  32.864645  11.779368   9.153697  23.457894  \n",
       "39  27.389411  15.043166   8.927344  22.217129  \n",
       "40  33.660581  12.255521  10.316914  21.801202  \n",
       "41  34.995734  10.432017   9.214302  15.826417  \n",
       "42  31.273167  15.344480   7.854553  15.060435  \n",
       "43  34.867498   6.603754   2.471069   2.165999  \n",
       "44  33.219257  11.845724   9.326251  22.568183  \n",
       "45  32.464978  13.686873   8.457281  13.963594  \n",
       "46  40.807476  11.095210   7.621588   6.513584  \n",
       "47  30.749081  12.282903  11.224108  27.295340  \n",
       "48  38.269808   7.994804   5.784476   7.280423  \n",
       "49  29.716182  14.901023   8.015595  18.233506  \n",
       "\n",
       "[50 rows x 21 columns]"
      ]
     },
     "execution_count": 109,
     "metadata": {},
     "output_type": "execute_result"
    }
   ],
   "source": [
    "df.sort_values(by=['סהכ'], ascending=False, inplace=True)\n",
    "df = df.reset_index(drop=True)\n",
    "df.head(50)"
   ]
  },
  {
   "cell_type": "markdown",
   "id": "f5e72cd9",
   "metadata": {},
   "source": [
    "We will get list of all the settlement in Israel by descending size of population. Looping through this list will help to create the plots "
   ]
  },
  {
   "cell_type": "code",
   "execution_count": 110,
   "id": "1f9705be",
   "metadata": {
    "scrolled": true
   },
   "outputs": [
    {
     "data": {
      "image/png": "[encoded data removed]",
      "text/plain": [
       "<Figure size 432x288 with 1 Axes>"
      ]
     },
     "metadata": {
      "needs_background": "light"
     },
     "output_type": "display_data"
    },
    {
     "data": {
      "image/png": "[encoded data removed]",
      "text/plain": [
       "<Figure size 432x288 with 1 Axes>"
      ]
     },
     "metadata": {
      "needs_background": "light"
     },
     "output_type": "display_data"
    },
    {
     "data": {
      "image/png": "[encoded data removed]",
      "text/plain": [
       "<Figure size 432x288 with 1 Axes>"
      ]
     },
     "metadata": {
      "needs_background": "light"
     },
     "output_type": "display_data"
    },
    {
     "data": {
      "image/png": "[encoded data removed]",
      "text/plain": [
       "<Figure size 432x288 with 1 Axes>"
      ]
     },
     "metadata": {
      "needs_background": "light"
     },
     "output_type": "display_data"
    },
    {
     "data": {
      "image/png": "[encoded data removed]",
      "text/plain": [
       "<Figure size 432x288 with 1 Axes>"
      ]
     },
     "metadata": {
      "needs_background": "light"
     },
     "output_type": "display_data"
    },
    {
     "data": {
      "image/png": "[encoded data removed]",
      "text/plain": [
       "<Figure size 432x288 with 1 Axes>"
      ]
     },
     "metadata": {
      "needs_background": "light"
     },
     "output_type": "display_data"
    },
    {
     "data": {
      "image/png": "[encoded data removed]",
      "text/plain": [
       "<Figure size 432x288 with 1 Axes>"
      ]
     },
     "metadata": {
      "needs_background": "light"
     },
     "output_type": "display_data"
    },
    {
     "data": {
      "image/png": "[encoded data removed]",
      "text/plain": [
       "<Figure size 432x288 with 1 Axes>"
      ]
     },
     "metadata": {
      "needs_background": "light"
     },
     "output_type": "display_data"
    },
    {
     "data": {
      "image/png": "[encoded data removed]",
      "text/plain": [
       "<Figure size 432x288 with 1 Axes>"
      ]
     },
     "metadata": {
      "needs_background": "light"
     },
     "output_type": "display_data"
    },
    {
     "data": {
      "image/png": "[encoded data removed]",
      "text/plain": [
       "<Figure size 432x288 with 1 Axes>"
      ]
     },
     "metadata": {
      "needs_background": "light"
     },
     "output_type": "display_data"
    },
    {
     "data": {
      "image/png": "[encoded data removed]",
      "text/plain": [
       "<Figure size 432x288 with 1 Axes>"
      ]
     },
     "metadata": {
      "needs_background": "light"
     },
     "output_type": "display_data"
    },
    {
     "data": {
      "image/png": "[encoded data removed]",
      "text/plain": [
       "<Figure size 432x288 with 1 Axes>"
      ]
     },
     "metadata": {
      "needs_background": "light"
     },
     "output_type": "display_data"
    },
    {
     "data": {
      "image/png": "[encoded data removed]",
      "text/plain": [
       "<Figure size 432x288 with 1 Axes>"
      ]
     },
     "metadata": {
      "needs_background": "light"
     },
     "output_type": "display_data"
    },
    {
     "data": {
      "image/png": "[encoded data removed]",
      "text/plain": [
       "<Figure size 432x288 with 1 Axes>"
      ]
     },
     "metadata": {
      "needs_background": "light"
     },
     "output_type": "display_data"
    },
    {
     "data": {
      "image/png": "[encoded data removed]",
      "text/plain": [
       "<Figure size 432x288 with 1 Axes>"
      ]
     },
     "metadata": {
      "needs_background": "light"
     },
     "output_type": "display_data"
    },
    {
     "data": {
      "image/png": "[encoded data removed]",
      "text/plain": [
       "<Figure size 432x288 with 1 Axes>"
      ]
     },
     "metadata": {
      "needs_background": "light"
     },
     "output_type": "display_data"
    },
    {
     "data": {
      "image/png": "[encoded data removed]",
      "text/plain": [
       "<Figure size 432x288 with 1 Axes>"
      ]
     },
     "metadata": {
      "needs_background": "light"
     },
     "output_type": "display_data"
    },
    {
     "data": {
      "image/png": "[encoded data removed]",
      "text/plain": [
       "<Figure size 432x288 with 1 Axes>"
      ]
     },
     "metadata": {
      "needs_background": "light"
     },
     "output_type": "display_data"
    },
    {
     "data": {
      "image/png": "[encoded data removed]",
      "text/plain": [
       "<Figure size 432x288 with 1 Axes>"
      ]
     },
     "metadata": {
      "needs_background": "light"
     },
     "output_type": "display_data"
    },
    {
     "data": {
      "image/png": "[encoded data removed]",
      "text/plain": [
       "<Figure size 432x288 with 1 Axes>"
      ]
     },
     "metadata": {
      "needs_background": "light"
     },
     "output_type": "display_data"
    }
   ],
   "source": [
    "settlement_name_list = df['שם_ישוב'].tolist()\n",
    "plots_list = []\n",
    "for settlement_name in settlement_name_list[:20]:\n",
    "    plots_list.append(distribution_for_settlement(settlement_name=settlement_name, data_frame=df))\n",
    "    "
   ]
  },
  {
   "cell_type": "markdown",
   "id": "c28549d9",
   "metadata": {},
   "source": [
    "Interesting thing is to look were the group age 6-18 is the largest to see the future of a settlement\n",
    "For example see Bnei Brak and Rishon Lezion. Two well established settlement. One can figure out from this charts were a future demand for in house real estate seekers will be more significant."
   ]
  },
  {
   "cell_type": "code",
   "execution_count": 111,
   "id": "2fa16655",
   "metadata": {
    "scrolled": true
   },
   "outputs": [
    {
     "data": {
      "image/png": "[encoded data removed]",
      "text/plain": [
       "<Figure size 432x288 with 1 Axes>"
      ]
     },
     "execution_count": 111,
     "metadata": {},
     "output_type": "execute_result"
    }
   ],
   "source": [
    "plots_list[4].figure"
   ]
  },
  {
   "cell_type": "code",
   "execution_count": 112,
   "id": "8be1a4d4",
   "metadata": {
    "scrolled": true
   },
   "outputs": [
    {
     "data": {
      "image/png": "[encoded data removed]",
      "text/plain": [
       "<Figure size 432x288 with 1 Axes>"
      ]
     },
     "execution_count": 112,
     "metadata": {},
     "output_type": "execute_result"
    }
   ],
   "source": [
    "plots_list[8].figure"
   ]
  },
  {
   "cell_type": "code",
   "execution_count": 113,
   "id": "acbdd1dc",
   "metadata": {
    "scrolled": true
   },
   "outputs": [
    {
     "data": {
      "image/png": "[encoded data removed]",
      "text/plain": [
       "<Figure size 432x288 with 1 Axes>"
      ]
     },
     "metadata": {
      "needs_background": "light"
     },
     "output_type": "display_data"
    },
    {
     "data": {
      "image/png": "[encoded data removed]",
      "text/plain": [
       "<Figure size 432x288 with 1 Axes>"
      ]
     },
     "metadata": {
      "needs_background": "light"
     },
     "output_type": "display_data"
    },
    {
     "data": {
      "image/png": "[encoded data removed]",
      "text/plain": [
       "<Figure size 432x288 with 1 Axes>"
      ]
     },
     "metadata": {
      "needs_background": "light"
     },
     "output_type": "display_data"
    },
    {
     "data": {
      "image/png": "[encoded data removed]",
      "text/plain": [
       "<Figure size 432x288 with 1 Axes>"
      ]
     },
     "metadata": {
      "needs_background": "light"
     },
     "output_type": "display_data"
    },
    {
     "data": {
      "image/png": "[encoded data removed]",
      "text/plain": [
       "<Figure size 432x288 with 1 Axes>"
      ]
     },
     "metadata": {
      "needs_background": "light"
     },
     "output_type": "display_data"
    },
    {
     "data": {
      "image/png": "[encoded data removed]",
      "text/plain": [
       "<Figure size 432x288 with 1 Axes>"
      ]
     },
     "metadata": {
      "needs_background": "light"
     },
     "output_type": "display_data"
    },
    {
     "data": {
      "image/png": "[encoded data removed]",
      "text/plain": [
       "<Figure size 432x288 with 1 Axes>"
      ]
     },
     "metadata": {
      "needs_background": "light"
     },
     "output_type": "display_data"
    },
    {
     "data": {
      "image/png": "[encoded data removed]",
      "text/plain": [
       "<Figure size 432x288 with 1 Axes>"
      ]
     },
     "metadata": {
      "needs_background": "light"
     },
     "output_type": "display_data"
    },
    {
     "data": {
      "image/png": "[encoded data removed]",
      "text/plain": [
       "<Figure size 432x288 with 1 Axes>"
      ]
     },
     "metadata": {
      "needs_background": "light"
     },
     "output_type": "display_data"
    },
    {
     "data": {
      "image/png": "[encoded data removed]",
      "text/plain": [
       "<Figure size 432x288 with 1 Axes>"
      ]
     },
     "metadata": {
      "needs_background": "light"
     },
     "output_type": "display_data"
    },
    {
     "data": {
      "image/png": "[encoded data removed]",
      "text/plain": [
       "<Figure size 432x288 with 1 Axes>"
      ]
     },
     "metadata": {
      "needs_background": "light"
     },
     "output_type": "display_data"
    },
    {
     "data": {
      "image/png": "[encoded data removed]",
      "text/plain": [
       "<Figure size 432x288 with 1 Axes>"
      ]
     },
     "metadata": {
      "needs_background": "light"
     },
     "output_type": "display_data"
    },
    {
     "data": {
      "image/png": "[encoded data removed]",
      "text/plain": [
       "<Figure size 432x288 with 1 Axes>"
      ]
     },
     "metadata": {
      "needs_background": "light"
     },
     "output_type": "display_data"
    },
    {
     "data": {
      "image/png": "[encoded data removed]",
      "text/plain": [
       "<Figure size 432x288 with 1 Axes>"
      ]
     },
     "metadata": {
      "needs_background": "light"
     },
     "output_type": "display_data"
    },
    {
     "data": {
      "image/png": "[encoded data removed]",
      "text/plain": [
       "<Figure size 432x288 with 1 Axes>"
      ]
     },
     "metadata": {
      "needs_background": "light"
     },
     "output_type": "display_data"
    },
    {
     "data": {
      "image/png": "[encoded data removed]",
      "text/plain": [
       "<Figure size 432x288 with 1 Axes>"
      ]
     },
     "metadata": {
      "needs_background": "light"
     },
     "output_type": "display_data"
    },
    {
     "data": {
      "image/png": "[encoded data removed]",
      "text/plain": [
       "<Figure size 432x288 with 1 Axes>"
      ]
     },
     "metadata": {
      "needs_background": "light"
     },
     "output_type": "display_data"
    },
    {
     "data": {
      "image/png": "[encoded data removed]",
      "text/plain": [
       "<Figure size 432x288 with 1 Axes>"
      ]
     },
     "metadata": {
      "needs_background": "light"
     },
     "output_type": "display_data"
    },
    {
     "data": {
      "image/png": "[encoded data removed]",
      "text/plain": [
       "<Figure size 432x288 with 1 Axes>"
      ]
     },
     "metadata": {
      "needs_background": "light"
     },
     "output_type": "display_data"
    }
   ],
   "source": [
    "settlement_name_list = df['שם_ישוב'].tolist()\n",
    "plots_list = []\n",
    "for settlement_name in settlement_name_list[21:40]:\n",
    "    plots_list.append(distribution_for_settlement(settlement_name=settlement_name, data_frame=df))"
   ]
  },
  {
   "cell_type": "code",
   "execution_count": 114,
   "id": "6cf1696d",
   "metadata": {
    "scrolled": true
   },
   "outputs": [
    {
     "data": {
      "image/png": "[encoded data removed]",
      "text/plain": [
       "<Figure size 432x288 with 1 Axes>"
      ]
     },
     "metadata": {
      "needs_background": "light"
     },
     "output_type": "display_data"
    },
    {
     "data": {
      "image/png": "[encoded data removed]",
      "text/plain": [
       "<Figure size 432x288 with 1 Axes>"
      ]
     },
     "metadata": {
      "needs_background": "light"
     },
     "output_type": "display_data"
    },
    {
     "data": {
      "image/png": "[encoded data removed]",
      "text/plain": [
       "<Figure size 432x288 with 1 Axes>"
      ]
     },
     "metadata": {
      "needs_background": "light"
     },
     "output_type": "display_data"
    },
    {
     "data": {
      "image/png": "[encoded data removed]",
      "text/plain": [
       "<Figure size 432x288 with 1 Axes>"
      ]
     },
     "metadata": {
      "needs_background": "light"
     },
     "output_type": "display_data"
    },
    {
     "data": {
      "image/png": "[encoded data removed]",
      "text/plain": [
       "<Figure size 432x288 with 1 Axes>"
      ]
     },
     "metadata": {
      "needs_background": "light"
     },
     "output_type": "display_data"
    },
    {
     "data": {
      "image/png": "[encoded data removed]",
      "text/plain": [
       "<Figure size 432x288 with 1 Axes>"
      ]
     },
     "metadata": {
      "needs_background": "light"
     },
     "output_type": "display_data"
    },
    {
     "data": {
      "image/png": "[encoded data removed]",
      "text/plain": [
       "<Figure size 432x288 with 1 Axes>"
      ]
     },
     "metadata": {
      "needs_background": "light"
     },
     "output_type": "display_data"
    },
    {
     "data": {
      "image/png": "[encoded data removed]",
      "text/plain": [
       "<Figure size 432x288 with 1 Axes>"
      ]
     },
     "metadata": {
      "needs_background": "light"
     },
     "output_type": "display_data"
    },
    {
     "data": {
      "image/png": "[encoded data removed]",
      "text/plain": [
       "<Figure size 432x288 with 1 Axes>"
      ]
     },
     "metadata": {
      "needs_background": "light"
     },
     "output_type": "display_data"
    },
    {
     "data": {
      "image/png": "[encoded data removed]",
      "text/plain": [
       "<Figure size 432x288 with 1 Axes>"
      ]
     },
     "metadata": {
      "needs_background": "light"
     },
     "output_type": "display_data"
    },
    {
     "data": {
      "image/png": "[encoded data removed]",
      "text/plain": [
       "<Figure size 432x288 with 1 Axes>"
      ]
     },
     "metadata": {
      "needs_background": "light"
     },
     "output_type": "display_data"
    },
    {
     "data": {
      "image/png": "[encoded data removed]",
      "text/plain": [
       "<Figure size 432x288 with 1 Axes>"
      ]
     },
     "metadata": {
      "needs_background": "light"
     },
     "output_type": "display_data"
    },
    {
     "data": {
      "image/png": "[encoded data removed]",
      "text/plain": [
       "<Figure size 432x288 with 1 Axes>"
      ]
     },
     "metadata": {
      "needs_background": "light"
     },
     "output_type": "display_data"
    },
    {
     "data": {
      "image/png": "[encoded data removed]",
      "text/plain": [
       "<Figure size 432x288 with 1 Axes>"
      ]
     },
     "metadata": {
      "needs_background": "light"
     },
     "output_type": "display_data"
    },
    {
     "data": {
      "image/png": "[encoded data removed]",
      "text/plain": [
       "<Figure size 432x288 with 1 Axes>"
      ]
     },
     "metadata": {
      "needs_background": "light"
     },
     "output_type": "display_data"
    },
    {
     "data": {
      "image/png": "[encoded data removed]",
      "text/plain": [
       "<Figure size 432x288 with 1 Axes>"
      ]
     },
     "metadata": {
      "needs_background": "light"
     },
     "output_type": "display_data"
    },
    {
     "data": {
      "image/png": "[encoded data removed]",
      "text/plain": [
       "<Figure size 432x288 with 1 Axes>"
      ]
     },
     "metadata": {
      "needs_background": "light"
     },
     "output_type": "display_data"
    },
    {
     "data": {
      "image/png": "[encoded data removed]",
      "text/plain": [
       "<Figure size 432x288 with 1 Axes>"
      ]
     },
     "metadata": {
      "needs_background": "light"
     },
     "output_type": "display_data"
    },
    {
     "data": {
      "image/png": "[encoded data removed]",
      "text/plain": [
       "<Figure size 432x288 with 1 Axes>"
      ]
     },
     "metadata": {
      "needs_background": "light"
     },
     "output_type": "display_data"
    }
   ],
   "source": [
    "settlement_name_list = df['שם_ישוב'].tolist()\n",
    "plots_list = []\n",
    "for settlement_name in settlement_name_list[41:60]:\n",
    "    plots_list.append(distribution_for_settlement(settlement_name=settlement_name, data_frame=df))"
   ]
  },
  {
   "cell_type": "code",
   "execution_count": 115,
   "id": "f3d36c3a",
   "metadata": {},
   "outputs": [
    {
     "data": {
      "image/png": "[encoded data removed]",
      "text/plain": [
       "<Figure size 432x288 with 1 Axes>"
      ]
     },
     "metadata": {
      "needs_background": "light"
     },
     "output_type": "display_data"
    },
    {
     "data": {
      "image/png": "[encoded data removed]",
      "text/plain": [
       "<Figure size 432x288 with 1 Axes>"
      ]
     },
     "metadata": {
      "needs_background": "light"
     },
     "output_type": "display_data"
    },
    {
     "data": {
      "image/png": "[encoded data removed]",
      "text/plain": [
       "<Figure size 432x288 with 1 Axes>"
      ]
     },
     "metadata": {
      "needs_background": "light"
     },
     "output_type": "display_data"
    },
    {
     "data": {
      "image/png": "[encoded data removed]",
      "text/plain": [
       "<Figure size 432x288 with 1 Axes>"
      ]
     },
     "metadata": {
      "needs_background": "light"
     },
     "output_type": "display_data"
    },
    {
     "data": {
      "image/png": "[encoded data removed]",
      "text/plain": [
       "<Figure size 432x288 with 1 Axes>"
      ]
     },
     "metadata": {
      "needs_background": "light"
     },
     "output_type": "display_data"
    },
    {
     "data": {
      "image/png": "[encoded data removed]",
      "text/plain": [
       "<Figure size 432x288 with 1 Axes>"
      ]
     },
     "metadata": {
      "needs_background": "light"
     },
     "output_type": "display_data"
    },
    {
     "data": {
      "image/png": "[encoded data removed]",
      "text/plain": [
       "<Figure size 432x288 with 1 Axes>"
      ]
     },
     "metadata": {
      "needs_background": "light"
     },
     "output_type": "display_data"
    },
    {
     "data": {
      "image/png": "[encoded data removed]",
      "text/plain": [
       "<Figure size 432x288 with 1 Axes>"
      ]
     },
     "metadata": {
      "needs_background": "light"
     },
     "output_type": "display_data"
    },
    {
     "data": {
      "image/png": "[encoded data removed]",
      "text/plain": [
       "<Figure size 432x288 with 1 Axes>"
      ]
     },
     "metadata": {
      "needs_background": "light"
     },
     "output_type": "display_data"
    },
    {
     "data": {
      "image/png": "[encoded data removed]",
      "text/plain": [
       "<Figure size 432x288 with 1 Axes>"
      ]
     },
     "metadata": {
      "needs_background": "light"
     },
     "output_type": "display_data"
    },
    {
     "data": {
      "image/png": "[encoded data removed]",
      "text/plain": [
       "<Figure size 432x288 with 1 Axes>"
      ]
     },
     "metadata": {
      "needs_background": "light"
     },
     "output_type": "display_data"
    },
    {
     "data": {
      "image/png": "[encoded data removed]",
      "text/plain": [
       "<Figure size 432x288 with 1 Axes>"
      ]
     },
     "metadata": {
      "needs_background": "light"
     },
     "output_type": "display_data"
    },
    {
     "data": {
      "image/png": "[encoded data removed]",
      "text/plain": [
       "<Figure size 432x288 with 1 Axes>"
      ]
     },
     "metadata": {
      "needs_background": "light"
     },
     "output_type": "display_data"
    },
    {
     "data": {
      "image/png": "[encoded data removed]",
      "text/plain": [
       "<Figure size 432x288 with 1 Axes>"
      ]
     },
     "metadata": {
      "needs_background": "light"
     },
     "output_type": "display_data"
    },
    {
     "data": {
      "image/png": "[encoded data removed]",
      "text/plain": [
       "<Figure size 432x288 with 1 Axes>"
      ]
     },
     "metadata": {
      "needs_background": "light"
     },
     "output_type": "display_data"
    },
    {
     "data": {
      "image/png": "[encoded data removed]",
      "text/plain": [
       "<Figure size 432x288 with 1 Axes>"
      ]
     },
     "metadata": {
      "needs_background": "light"
     },
     "output_type": "display_data"
    },
    {
     "data": {
      "image/png": "[encoded data removed]",
      "text/plain": [
       "<Figure size 432x288 with 1 Axes>"
      ]
     },
     "metadata": {
      "needs_background": "light"
     },
     "output_type": "display_data"
    },
    {
     "data": {
      "image/png": "[encoded data removed]",
      "text/plain": [
       "<Figure size 432x288 with 1 Axes>"
      ]
     },
     "metadata": {
      "needs_background": "light"
     },
     "output_type": "display_data"
    },
    {
     "data": {
      "image/png": "[encoded data removed]",
      "text/plain": [
       "<Figure size 432x288 with 1 Axes>"
      ]
     },
     "metadata": {
      "needs_background": "light"
     },
     "output_type": "display_data"
    }
   ],
   "source": [
    "settlement_name_list = df['שם_ישוב'].tolist()\n",
    "plots_list = []\n",
    "for settlement_name in settlement_name_list[61:80]:\n",
    "    plots_list.append(distribution_for_settlement(settlement_name=settlement_name, data_frame=df))"
   ]
  }
 ],
 "metadata": {
  "kernelspec": {
   "display_name": "Python 3 (ipykernel)",
   "language": "python",
   "name": "python3"
  },
  "language_info": {
   "codemirror_mode": {
    "name": "ipython",
    "version": 3
   },
   "file_extension": ".py",
   "mimetype": "text/x-python",
   "name": "python",
   "nbconvert_exporter": "python",
   "pygments_lexer": "ipython3",
   "version": "3.9.7"
  }
 },
 "nbformat": 4,
 "nbformat_minor": 5
}
